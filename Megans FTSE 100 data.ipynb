{
 "cells": [
  {
   "cell_type": "markdown",
   "id": "92100cc4",
   "metadata": {},
   "source": [
    "# Predicting the change in FTSE 100 price"
   ]
  },
  {
   "cell_type": "markdown",
   "id": "fcb5bc01",
   "metadata": {},
   "source": [
    "## Importing data from Yahoo finance"
   ]
  },
  {
   "cell_type": "code",
   "execution_count": 1,
   "id": "24b34309",
   "metadata": {},
   "outputs": [
    {
     "name": "stdout",
     "output_type": "stream",
     "text": [
      "Requirement already satisfied: yfinance in c:\\users\\megan\\anaconda3\\lib\\site-packages (0.2.11)\n",
      "Requirement already satisfied: requests>=2.26 in c:\\users\\megan\\anaconda3\\lib\\site-packages (from yfinance) (2.27.1)\n",
      "Requirement already satisfied: multitasking>=0.0.7 in c:\\users\\megan\\anaconda3\\lib\\site-packages (from yfinance) (0.0.11)\n",
      "Requirement already satisfied: beautifulsoup4>=4.11.1 in c:\\users\\megan\\anaconda3\\lib\\site-packages (from yfinance) (4.11.1)\n",
      "Requirement already satisfied: lxml>=4.9.1 in c:\\users\\megan\\anaconda3\\lib\\site-packages (from yfinance) (4.9.2)\n",
      "Requirement already satisfied: pandas>=1.3.0 in c:\\users\\megan\\anaconda3\\lib\\site-packages (from yfinance) (1.4.2)\n",
      "Requirement already satisfied: html5lib>=1.1 in c:\\users\\megan\\anaconda3\\lib\\site-packages (from yfinance) (1.1)\n",
      "Requirement already satisfied: pytz>=2022.5 in c:\\users\\megan\\anaconda3\\lib\\site-packages (from yfinance) (2022.7.1)\n",
      "Requirement already satisfied: appdirs>=1.4.4 in c:\\users\\megan\\anaconda3\\lib\\site-packages (from yfinance) (1.4.4)\n",
      "Requirement already satisfied: cryptography>=3.3.2 in c:\\users\\megan\\anaconda3\\lib\\site-packages (from yfinance) (3.4.8)\n",
      "Requirement already satisfied: numpy>=1.16.5 in c:\\users\\megan\\anaconda3\\lib\\site-packages (from yfinance) (1.21.5)\n",
      "Requirement already satisfied: frozendict>=2.3.4 in c:\\users\\megan\\anaconda3\\lib\\site-packages (from yfinance) (2.3.4)\n",
      "Requirement already satisfied: soupsieve>1.2 in c:\\users\\megan\\anaconda3\\lib\\site-packages (from beautifulsoup4>=4.11.1->yfinance) (2.3.1)\n",
      "Requirement already satisfied: cffi>=1.12 in c:\\users\\megan\\anaconda3\\lib\\site-packages (from cryptography>=3.3.2->yfinance) (1.15.0)\n",
      "Requirement already satisfied: pycparser in c:\\users\\megan\\anaconda3\\lib\\site-packages (from cffi>=1.12->cryptography>=3.3.2->yfinance) (2.21)\n",
      "Requirement already satisfied: webencodings in c:\\users\\megan\\anaconda3\\lib\\site-packages (from html5lib>=1.1->yfinance) (0.5.1)\n",
      "Requirement already satisfied: six>=1.9 in c:\\users\\megan\\anaconda3\\lib\\site-packages (from html5lib>=1.1->yfinance) (1.16.0)\n",
      "Requirement already satisfied: python-dateutil>=2.8.1 in c:\\users\\megan\\anaconda3\\lib\\site-packages (from pandas>=1.3.0->yfinance) (2.8.2)\n",
      "Requirement already satisfied: charset-normalizer~=2.0.0 in c:\\users\\megan\\anaconda3\\lib\\site-packages (from requests>=2.26->yfinance) (2.0.4)\n",
      "Requirement already satisfied: certifi>=2017.4.17 in c:\\users\\megan\\anaconda3\\lib\\site-packages (from requests>=2.26->yfinance) (2022.12.7)\n",
      "Requirement already satisfied: urllib3<1.27,>=1.21.1 in c:\\users\\megan\\anaconda3\\lib\\site-packages (from requests>=2.26->yfinance) (1.26.9)\n",
      "Requirement already satisfied: idna<4,>=2.5 in c:\\users\\megan\\anaconda3\\lib\\site-packages (from requests>=2.26->yfinance) (3.3)\n",
      "Note: you may need to restart the kernel to use updated packages.\n"
     ]
    }
   ],
   "source": [
    "pip install yfinance"
   ]
  },
  {
   "cell_type": "code",
   "execution_count": 2,
   "id": "5e2deed7",
   "metadata": {},
   "outputs": [],
   "source": [
    "import yfinance as yf"
   ]
  },
  {
   "cell_type": "code",
   "execution_count": 3,
   "id": "c53f7915",
   "metadata": {},
   "outputs": [
    {
     "name": "stdout",
     "output_type": "stream",
     "text": [
      "[*********************100%***********************]  1 of 1 completed\n"
     ]
    }
   ],
   "source": [
    "data = yf.download('^FTSE', start='2021-01-01')"
   ]
  },
  {
   "cell_type": "code",
   "execution_count": 4,
   "id": "1a9f26e3",
   "metadata": {},
   "outputs": [
    {
     "data": {
      "text/html": [
       "<div>\n",
       "<style scoped>\n",
       "    .dataframe tbody tr th:only-of-type {\n",
       "        vertical-align: middle;\n",
       "    }\n",
       "\n",
       "    .dataframe tbody tr th {\n",
       "        vertical-align: top;\n",
       "    }\n",
       "\n",
       "    .dataframe thead th {\n",
       "        text-align: right;\n",
       "    }\n",
       "</style>\n",
       "<table border=\"1\" class=\"dataframe\">\n",
       "  <thead>\n",
       "    <tr style=\"text-align: right;\">\n",
       "      <th></th>\n",
       "      <th>Open</th>\n",
       "      <th>High</th>\n",
       "      <th>Low</th>\n",
       "      <th>Close</th>\n",
       "      <th>Adj Close</th>\n",
       "      <th>Volume</th>\n",
       "    </tr>\n",
       "    <tr>\n",
       "      <th>Date</th>\n",
       "      <th></th>\n",
       "      <th></th>\n",
       "      <th></th>\n",
       "      <th></th>\n",
       "      <th></th>\n",
       "      <th></th>\n",
       "    </tr>\n",
       "  </thead>\n",
       "  <tbody>\n",
       "    <tr>\n",
       "      <th>2021-01-04</th>\n",
       "      <td>6460.500000</td>\n",
       "      <td>6662.700195</td>\n",
       "      <td>6460.500000</td>\n",
       "      <td>6571.899902</td>\n",
       "      <td>6571.899902</td>\n",
       "      <td>965097800</td>\n",
       "    </tr>\n",
       "    <tr>\n",
       "      <th>2021-01-05</th>\n",
       "      <td>6571.899902</td>\n",
       "      <td>6622.799805</td>\n",
       "      <td>6544.299805</td>\n",
       "      <td>6612.299805</td>\n",
       "      <td>6612.299805</td>\n",
       "      <td>718950800</td>\n",
       "    </tr>\n",
       "    <tr>\n",
       "      <th>2021-01-06</th>\n",
       "      <td>6612.299805</td>\n",
       "      <td>6859.100098</td>\n",
       "      <td>6611.899902</td>\n",
       "      <td>6841.899902</td>\n",
       "      <td>6841.899902</td>\n",
       "      <td>1249709500</td>\n",
       "    </tr>\n",
       "    <tr>\n",
       "      <th>2021-01-07</th>\n",
       "      <td>6841.899902</td>\n",
       "      <td>6903.600098</td>\n",
       "      <td>6795.100098</td>\n",
       "      <td>6857.000000</td>\n",
       "      <td>6857.000000</td>\n",
       "      <td>939652600</td>\n",
       "    </tr>\n",
       "    <tr>\n",
       "      <th>2021-01-08</th>\n",
       "      <td>6857.000000</td>\n",
       "      <td>6886.299805</td>\n",
       "      <td>6836.100098</td>\n",
       "      <td>6873.299805</td>\n",
       "      <td>6873.299805</td>\n",
       "      <td>850778500</td>\n",
       "    </tr>\n",
       "  </tbody>\n",
       "</table>\n",
       "</div>"
      ],
      "text/plain": [
       "                   Open         High          Low        Close    Adj Close  \\\n",
       "Date                                                                          \n",
       "2021-01-04  6460.500000  6662.700195  6460.500000  6571.899902  6571.899902   \n",
       "2021-01-05  6571.899902  6622.799805  6544.299805  6612.299805  6612.299805   \n",
       "2021-01-06  6612.299805  6859.100098  6611.899902  6841.899902  6841.899902   \n",
       "2021-01-07  6841.899902  6903.600098  6795.100098  6857.000000  6857.000000   \n",
       "2021-01-08  6857.000000  6886.299805  6836.100098  6873.299805  6873.299805   \n",
       "\n",
       "                Volume  \n",
       "Date                    \n",
       "2021-01-04   965097800  \n",
       "2021-01-05   718950800  \n",
       "2021-01-06  1249709500  \n",
       "2021-01-07   939652600  \n",
       "2021-01-08   850778500  "
      ]
     },
     "execution_count": 4,
     "metadata": {},
     "output_type": "execute_result"
    }
   ],
   "source": [
    "data.head()"
   ]
  },
  {
   "cell_type": "markdown",
   "id": "032147a0",
   "metadata": {},
   "source": [
    "## importing basic mdulues"
   ]
  },
  {
   "cell_type": "code",
   "execution_count": 5,
   "id": "51879add",
   "metadata": {},
   "outputs": [],
   "source": [
    "import pandas as pd\n",
    "import numpy as np\n",
    "import matplotlib.pyplot as plt\n",
    "%matplotlib inline"
   ]
  },
  {
   "cell_type": "code",
   "execution_count": 6,
   "id": "fd9ec043",
   "metadata": {},
   "outputs": [
    {
     "data": {
      "image/png": "[encoded data removed]",
      "text/plain": [
       "<Figure size 1008x360 with 1 Axes>"
      ]
     },
     "metadata": {
      "needs_background": "light"
     },
     "output_type": "display_data"
    }
   ],
   "source": [
    "plt.figure(figsize=(14,5))\n",
    "plt.plot(data[\"Close\"])\n",
    "plt.xticks(rotation=30)\n",
    "plt.title(\"Closing prices\")\n",
    "plt.xlabel(\"Year-month\")\n",
    "plt.xlabel(\"Price GBP\")\n",
    "plt.show()"
   ]
  },
  {
   "cell_type": "markdown",
   "id": "8cd51edb",
   "metadata": {},
   "source": [
    "### changing the column names"
   ]
  },
  {
   "cell_type": "code",
   "execution_count": 7,
   "id": "e2142895",
   "metadata": {},
   "outputs": [
    {
     "data": {
      "text/plain": [
       "Index(['Open', 'High', 'Low', 'Close', 'Adj Close', 'Volume'], dtype='object')"
      ]
     },
     "execution_count": 7,
     "metadata": {},
     "output_type": "execute_result"
    }
   ],
   "source": [
    "data.columns"
   ]
  },
  {
   "cell_type": "code",
   "execution_count": 8,
   "id": "938bfef4",
   "metadata": {},
   "outputs": [],
   "source": [
    "data.columns = data.columns.str.lower().str.replace(\" \", \"_\")"
   ]
  },
  {
   "cell_type": "code",
   "execution_count": 9,
   "id": "b326f4a3",
   "metadata": {},
   "outputs": [
    {
     "data": {
      "text/plain": [
       "Index(['open', 'high', 'low', 'close', 'adj_close', 'volume'], dtype='object')"
      ]
     },
     "execution_count": 9,
     "metadata": {},
     "output_type": "execute_result"
    }
   ],
   "source": [
    "data.columns"
   ]
  },
  {
   "cell_type": "markdown",
   "id": "fba717fa",
   "metadata": {},
   "source": [
    "## creating the target variable\n",
    "### creating a future returns column of percentage change and a signal column"
   ]
  },
  {
   "cell_type": "code",
   "execution_count": 10,
   "id": "bf285d87",
   "metadata": {},
   "outputs": [
    {
     "data": {
      "text/html": [
       "<div>\n",
       "<style scoped>\n",
       "    .dataframe tbody tr th:only-of-type {\n",
       "        vertical-align: middle;\n",
       "    }\n",
       "\n",
       "    .dataframe tbody tr th {\n",
       "        vertical-align: top;\n",
       "    }\n",
       "\n",
       "    .dataframe thead th {\n",
       "        text-align: right;\n",
       "    }\n",
       "</style>\n",
       "<table border=\"1\" class=\"dataframe\">\n",
       "  <thead>\n",
       "    <tr style=\"text-align: right;\">\n",
       "      <th></th>\n",
       "      <th>open</th>\n",
       "      <th>high</th>\n",
       "      <th>low</th>\n",
       "      <th>close</th>\n",
       "      <th>adj_close</th>\n",
       "      <th>volume</th>\n",
       "      <th>future_returns</th>\n",
       "      <th>signal</th>\n",
       "    </tr>\n",
       "    <tr>\n",
       "      <th>Date</th>\n",
       "      <th></th>\n",
       "      <th></th>\n",
       "      <th></th>\n",
       "      <th></th>\n",
       "      <th></th>\n",
       "      <th></th>\n",
       "      <th></th>\n",
       "      <th></th>\n",
       "    </tr>\n",
       "  </thead>\n",
       "  <tbody>\n",
       "    <tr>\n",
       "      <th>2021-01-04</th>\n",
       "      <td>6460.500000</td>\n",
       "      <td>6662.700195</td>\n",
       "      <td>6460.500000</td>\n",
       "      <td>6571.899902</td>\n",
       "      <td>6571.899902</td>\n",
       "      <td>965097800</td>\n",
       "      <td>0.006147</td>\n",
       "      <td>1</td>\n",
       "    </tr>\n",
       "    <tr>\n",
       "      <th>2021-01-05</th>\n",
       "      <td>6571.899902</td>\n",
       "      <td>6622.799805</td>\n",
       "      <td>6544.299805</td>\n",
       "      <td>6612.299805</td>\n",
       "      <td>6612.299805</td>\n",
       "      <td>718950800</td>\n",
       "      <td>0.034723</td>\n",
       "      <td>1</td>\n",
       "    </tr>\n",
       "    <tr>\n",
       "      <th>2021-01-06</th>\n",
       "      <td>6612.299805</td>\n",
       "      <td>6859.100098</td>\n",
       "      <td>6611.899902</td>\n",
       "      <td>6841.899902</td>\n",
       "      <td>6841.899902</td>\n",
       "      <td>1249709500</td>\n",
       "      <td>0.002207</td>\n",
       "      <td>1</td>\n",
       "    </tr>\n",
       "    <tr>\n",
       "      <th>2021-01-07</th>\n",
       "      <td>6841.899902</td>\n",
       "      <td>6903.600098</td>\n",
       "      <td>6795.100098</td>\n",
       "      <td>6857.000000</td>\n",
       "      <td>6857.000000</td>\n",
       "      <td>939652600</td>\n",
       "      <td>0.002377</td>\n",
       "      <td>1</td>\n",
       "    </tr>\n",
       "    <tr>\n",
       "      <th>2021-01-08</th>\n",
       "      <td>6857.000000</td>\n",
       "      <td>6886.299805</td>\n",
       "      <td>6836.100098</td>\n",
       "      <td>6873.299805</td>\n",
       "      <td>6873.299805</td>\n",
       "      <td>850778500</td>\n",
       "      <td>-0.010883</td>\n",
       "      <td>0</td>\n",
       "    </tr>\n",
       "    <tr>\n",
       "      <th>2021-01-11</th>\n",
       "      <td>6873.299805</td>\n",
       "      <td>6873.299805</td>\n",
       "      <td>6768.700195</td>\n",
       "      <td>6798.500000</td>\n",
       "      <td>6798.500000</td>\n",
       "      <td>707799500</td>\n",
       "      <td>-0.006531</td>\n",
       "      <td>0</td>\n",
       "    </tr>\n",
       "    <tr>\n",
       "      <th>2021-01-12</th>\n",
       "      <td>6798.500000</td>\n",
       "      <td>6816.700195</td>\n",
       "      <td>6738.200195</td>\n",
       "      <td>6754.100098</td>\n",
       "      <td>6754.100098</td>\n",
       "      <td>648158800</td>\n",
       "      <td>-0.001273</td>\n",
       "      <td>0</td>\n",
       "    </tr>\n",
       "    <tr>\n",
       "      <th>2021-01-13</th>\n",
       "      <td>6754.100098</td>\n",
       "      <td>6772.600098</td>\n",
       "      <td>6736.000000</td>\n",
       "      <td>6745.500000</td>\n",
       "      <td>6745.500000</td>\n",
       "      <td>619448200</td>\n",
       "      <td>0.008376</td>\n",
       "      <td>1</td>\n",
       "    </tr>\n",
       "    <tr>\n",
       "      <th>2021-01-14</th>\n",
       "      <td>6745.500000</td>\n",
       "      <td>6802.000000</td>\n",
       "      <td>6736.799805</td>\n",
       "      <td>6802.000000</td>\n",
       "      <td>6802.000000</td>\n",
       "      <td>685978100</td>\n",
       "      <td>-0.009747</td>\n",
       "      <td>0</td>\n",
       "    </tr>\n",
       "    <tr>\n",
       "      <th>2021-01-15</th>\n",
       "      <td>6802.000000</td>\n",
       "      <td>6802.100098</td>\n",
       "      <td>6676.600098</td>\n",
       "      <td>6735.700195</td>\n",
       "      <td>6735.700195</td>\n",
       "      <td>740665600</td>\n",
       "      <td>-0.002227</td>\n",
       "      <td>0</td>\n",
       "    </tr>\n",
       "  </tbody>\n",
       "</table>\n",
       "</div>"
      ],
      "text/plain": [
       "                   open         high          low        close    adj_close  \\\n",
       "Date                                                                          \n",
       "2021-01-04  6460.500000  6662.700195  6460.500000  6571.899902  6571.899902   \n",
       "2021-01-05  6571.899902  6622.799805  6544.299805  6612.299805  6612.299805   \n",
       "2021-01-06  6612.299805  6859.100098  6611.899902  6841.899902  6841.899902   \n",
       "2021-01-07  6841.899902  6903.600098  6795.100098  6857.000000  6857.000000   \n",
       "2021-01-08  6857.000000  6886.299805  6836.100098  6873.299805  6873.299805   \n",
       "2021-01-11  6873.299805  6873.299805  6768.700195  6798.500000  6798.500000   \n",
       "2021-01-12  6798.500000  6816.700195  6738.200195  6754.100098  6754.100098   \n",
       "2021-01-13  6754.100098  6772.600098  6736.000000  6745.500000  6745.500000   \n",
       "2021-01-14  6745.500000  6802.000000  6736.799805  6802.000000  6802.000000   \n",
       "2021-01-15  6802.000000  6802.100098  6676.600098  6735.700195  6735.700195   \n",
       "\n",
       "                volume  future_returns  signal  \n",
       "Date                                            \n",
       "2021-01-04   965097800        0.006147       1  \n",
       "2021-01-05   718950800        0.034723       1  \n",
       "2021-01-06  1249709500        0.002207       1  \n",
       "2021-01-07   939652600        0.002377       1  \n",
       "2021-01-08   850778500       -0.010883       0  \n",
       "2021-01-11   707799500       -0.006531       0  \n",
       "2021-01-12   648158800       -0.001273       0  \n",
       "2021-01-13   619448200        0.008376       1  \n",
       "2021-01-14   685978100       -0.009747       0  \n",
       "2021-01-15   740665600       -0.002227       0  "
      ]
     },
     "execution_count": 10,
     "metadata": {},
     "output_type": "execute_result"
    }
   ],
   "source": [
    "data['future_returns'] = data['close'].pct_change().shift(-1)\n",
    "\n",
    "# Create the signal column\n",
    "data['signal'] = np.where(data['future_returns'] > 0, 1, 0)\n",
    "\n",
    "data.head(10)"
   ]
  },
  {
   "cell_type": "code",
   "execution_count": 11,
   "id": "2c463c29",
   "metadata": {},
   "outputs": [
    {
     "data": {
      "text/html": [
       "<div>\n",
       "<style scoped>\n",
       "    .dataframe tbody tr th:only-of-type {\n",
       "        vertical-align: middle;\n",
       "    }\n",
       "\n",
       "    .dataframe tbody tr th {\n",
       "        vertical-align: top;\n",
       "    }\n",
       "\n",
       "    .dataframe thead th {\n",
       "        text-align: right;\n",
       "    }\n",
       "</style>\n",
       "<table border=\"1\" class=\"dataframe\">\n",
       "  <thead>\n",
       "    <tr style=\"text-align: right;\">\n",
       "      <th></th>\n",
       "      <th>open</th>\n",
       "      <th>high</th>\n",
       "      <th>low</th>\n",
       "      <th>close</th>\n",
       "      <th>adj_close</th>\n",
       "      <th>volume</th>\n",
       "      <th>future_returns</th>\n",
       "      <th>signal</th>\n",
       "    </tr>\n",
       "    <tr>\n",
       "      <th>Date</th>\n",
       "      <th></th>\n",
       "      <th></th>\n",
       "      <th></th>\n",
       "      <th></th>\n",
       "      <th></th>\n",
       "      <th></th>\n",
       "      <th></th>\n",
       "      <th></th>\n",
       "    </tr>\n",
       "  </thead>\n",
       "  <tbody>\n",
       "    <tr>\n",
       "      <th>2023-02-09</th>\n",
       "      <td>7885.200195</td>\n",
       "      <td>7949.600098</td>\n",
       "      <td>7874.200195</td>\n",
       "      <td>7911.200195</td>\n",
       "      <td>7911.200195</td>\n",
       "      <td>1061015400</td>\n",
       "      <td>-0.003628</td>\n",
       "      <td>0</td>\n",
       "    </tr>\n",
       "    <tr>\n",
       "      <th>2023-02-10</th>\n",
       "      <td>7911.200195</td>\n",
       "      <td>7913.299805</td>\n",
       "      <td>7850.899902</td>\n",
       "      <td>7882.500000</td>\n",
       "      <td>7882.500000</td>\n",
       "      <td>974265500</td>\n",
       "      <td>0.008259</td>\n",
       "      <td>1</td>\n",
       "    </tr>\n",
       "    <tr>\n",
       "      <th>2023-02-13</th>\n",
       "      <td>7882.500000</td>\n",
       "      <td>7947.600098</td>\n",
       "      <td>7881.899902</td>\n",
       "      <td>7947.600098</td>\n",
       "      <td>7947.600098</td>\n",
       "      <td>570125100</td>\n",
       "      <td>0.000793</td>\n",
       "      <td>1</td>\n",
       "    </tr>\n",
       "    <tr>\n",
       "      <th>2023-02-14</th>\n",
       "      <td>7947.600098</td>\n",
       "      <td>7996.399902</td>\n",
       "      <td>7947.600098</td>\n",
       "      <td>7953.899902</td>\n",
       "      <td>7953.899902</td>\n",
       "      <td>697856100</td>\n",
       "      <td>0.000138</td>\n",
       "      <td>1</td>\n",
       "    </tr>\n",
       "    <tr>\n",
       "      <th>2023-02-15</th>\n",
       "      <td>7953.850098</td>\n",
       "      <td>7958.020020</td>\n",
       "      <td>7921.319824</td>\n",
       "      <td>7955.000000</td>\n",
       "      <td>7955.000000</td>\n",
       "      <td>0</td>\n",
       "      <td>NaN</td>\n",
       "      <td>0</td>\n",
       "    </tr>\n",
       "  </tbody>\n",
       "</table>\n",
       "</div>"
      ],
      "text/plain": [
       "                   open         high          low        close    adj_close  \\\n",
       "Date                                                                          \n",
       "2023-02-09  7885.200195  7949.600098  7874.200195  7911.200195  7911.200195   \n",
       "2023-02-10  7911.200195  7913.299805  7850.899902  7882.500000  7882.500000   \n",
       "2023-02-13  7882.500000  7947.600098  7881.899902  7947.600098  7947.600098   \n",
       "2023-02-14  7947.600098  7996.399902  7947.600098  7953.899902  7953.899902   \n",
       "2023-02-15  7953.850098  7958.020020  7921.319824  7955.000000  7955.000000   \n",
       "\n",
       "                volume  future_returns  signal  \n",
       "Date                                            \n",
       "2023-02-09  1061015400       -0.003628       0  \n",
       "2023-02-10   974265500        0.008259       1  \n",
       "2023-02-13   570125100        0.000793       1  \n",
       "2023-02-14   697856100        0.000138       1  \n",
       "2023-02-15           0             NaN       0  "
      ]
     },
     "execution_count": 11,
     "metadata": {},
     "output_type": "execute_result"
    }
   ],
   "source": [
    "data.tail()"
   ]
  },
  {
   "cell_type": "code",
   "execution_count": 12,
   "id": "7fa4fe91",
   "metadata": {},
   "outputs": [],
   "source": [
    "#removing last row as no target so would mess up model\n",
    "data = data.drop(\"2023-02-14\", axis=0)"
   ]
  },
  {
   "cell_type": "code",
   "execution_count": 13,
   "id": "5268b8bc",
   "metadata": {},
   "outputs": [
    {
     "data": {
      "text/html": [
       "<div>\n",
       "<style scoped>\n",
       "    .dataframe tbody tr th:only-of-type {\n",
       "        vertical-align: middle;\n",
       "    }\n",
       "\n",
       "    .dataframe tbody tr th {\n",
       "        vertical-align: top;\n",
       "    }\n",
       "\n",
       "    .dataframe thead th {\n",
       "        text-align: right;\n",
       "    }\n",
       "</style>\n",
       "<table border=\"1\" class=\"dataframe\">\n",
       "  <thead>\n",
       "    <tr style=\"text-align: right;\">\n",
       "      <th></th>\n",
       "      <th>open</th>\n",
       "      <th>high</th>\n",
       "      <th>low</th>\n",
       "      <th>close</th>\n",
       "      <th>adj_close</th>\n",
       "      <th>volume</th>\n",
       "      <th>future_returns</th>\n",
       "      <th>signal</th>\n",
       "    </tr>\n",
       "    <tr>\n",
       "      <th>Date</th>\n",
       "      <th></th>\n",
       "      <th></th>\n",
       "      <th></th>\n",
       "      <th></th>\n",
       "      <th></th>\n",
       "      <th></th>\n",
       "      <th></th>\n",
       "      <th></th>\n",
       "    </tr>\n",
       "  </thead>\n",
       "  <tbody>\n",
       "    <tr>\n",
       "      <th>2023-02-08</th>\n",
       "      <td>7864.700195</td>\n",
       "      <td>7934.299805</td>\n",
       "      <td>7864.700195</td>\n",
       "      <td>7885.200195</td>\n",
       "      <td>7885.200195</td>\n",
       "      <td>587150400</td>\n",
       "      <td>0.003297</td>\n",
       "      <td>1</td>\n",
       "    </tr>\n",
       "    <tr>\n",
       "      <th>2023-02-09</th>\n",
       "      <td>7885.200195</td>\n",
       "      <td>7949.600098</td>\n",
       "      <td>7874.200195</td>\n",
       "      <td>7911.200195</td>\n",
       "      <td>7911.200195</td>\n",
       "      <td>1061015400</td>\n",
       "      <td>-0.003628</td>\n",
       "      <td>0</td>\n",
       "    </tr>\n",
       "    <tr>\n",
       "      <th>2023-02-10</th>\n",
       "      <td>7911.200195</td>\n",
       "      <td>7913.299805</td>\n",
       "      <td>7850.899902</td>\n",
       "      <td>7882.500000</td>\n",
       "      <td>7882.500000</td>\n",
       "      <td>974265500</td>\n",
       "      <td>0.008259</td>\n",
       "      <td>1</td>\n",
       "    </tr>\n",
       "    <tr>\n",
       "      <th>2023-02-13</th>\n",
       "      <td>7882.500000</td>\n",
       "      <td>7947.600098</td>\n",
       "      <td>7881.899902</td>\n",
       "      <td>7947.600098</td>\n",
       "      <td>7947.600098</td>\n",
       "      <td>570125100</td>\n",
       "      <td>0.000793</td>\n",
       "      <td>1</td>\n",
       "    </tr>\n",
       "    <tr>\n",
       "      <th>2023-02-15</th>\n",
       "      <td>7953.850098</td>\n",
       "      <td>7958.020020</td>\n",
       "      <td>7921.319824</td>\n",
       "      <td>7955.000000</td>\n",
       "      <td>7955.000000</td>\n",
       "      <td>0</td>\n",
       "      <td>NaN</td>\n",
       "      <td>0</td>\n",
       "    </tr>\n",
       "  </tbody>\n",
       "</table>\n",
       "</div>"
      ],
      "text/plain": [
       "                   open         high          low        close    adj_close  \\\n",
       "Date                                                                          \n",
       "2023-02-08  7864.700195  7934.299805  7864.700195  7885.200195  7885.200195   \n",
       "2023-02-09  7885.200195  7949.600098  7874.200195  7911.200195  7911.200195   \n",
       "2023-02-10  7911.200195  7913.299805  7850.899902  7882.500000  7882.500000   \n",
       "2023-02-13  7882.500000  7947.600098  7881.899902  7947.600098  7947.600098   \n",
       "2023-02-15  7953.850098  7958.020020  7921.319824  7955.000000  7955.000000   \n",
       "\n",
       "                volume  future_returns  signal  \n",
       "Date                                            \n",
       "2023-02-08   587150400        0.003297       1  \n",
       "2023-02-09  1061015400       -0.003628       0  \n",
       "2023-02-10   974265500        0.008259       1  \n",
       "2023-02-13   570125100        0.000793       1  \n",
       "2023-02-15           0             NaN       0  "
      ]
     },
     "execution_count": 13,
     "metadata": {},
     "output_type": "execute_result"
    }
   ],
   "source": [
    "data.tail()"
   ]
  },
  {
   "cell_type": "code",
   "execution_count": 14,
   "id": "3bb58a14",
   "metadata": {},
   "outputs": [
    {
     "name": "stdout",
     "output_type": "stream",
     "text": [
      "<class 'pandas.core.frame.DataFrame'>\n",
      "DatetimeIndex: 534 entries, 2021-01-04 to 2023-02-15\n",
      "Data columns (total 8 columns):\n",
      " #   Column          Non-Null Count  Dtype  \n",
      "---  ------          --------------  -----  \n",
      " 0   open            534 non-null    float64\n",
      " 1   high            534 non-null    float64\n",
      " 2   low             534 non-null    float64\n",
      " 3   close           534 non-null    float64\n",
      " 4   adj_close       534 non-null    float64\n",
      " 5   volume          534 non-null    int64  \n",
      " 6   future_returns  533 non-null    float64\n",
      " 7   signal          534 non-null    int32  \n",
      "dtypes: float64(6), int32(1), int64(1)\n",
      "memory usage: 35.5 KB\n"
     ]
    }
   ],
   "source": [
    "data.info()"
   ]
  },
  {
   "cell_type": "markdown",
   "id": "c02b617a",
   "metadata": {},
   "source": [
    "## creating features\n",
    "creating a few days before percentage change"
   ]
  },
  {
   "cell_type": "code",
   "execution_count": 15,
   "id": "d4a5ad98",
   "metadata": {},
   "outputs": [],
   "source": [
    "# last day percent change\n",
    "data['pct_change1'] = data['close'].pct_change()\n",
    "# last 3 days percent change\n",
    "data['pct_change3'] = data['close'].pct_change(3)\n",
    "# last 5 days percent change\n",
    "data['pct_change5'] = data['close'].pct_change(5)\n",
    "# last 10 days percent change\n",
    "data['pct_change10'] = data['close'].pct_change(10)"
   ]
  },
  {
   "cell_type": "markdown",
   "id": "9c35599b",
   "metadata": {},
   "source": [
    "## using technical indicators RSI and ADX\n",
    "### using talib library"
   ]
  },
  {
   "cell_type": "code",
   "execution_count": 16,
   "id": "3e5fab1b",
   "metadata": {},
   "outputs": [
    {
     "name": "stdout",
     "output_type": "stream",
     "text": [
      "Requirement already satisfied: ta-lib in c:\\users\\megan\\anaconda3\\lib\\site-packages (0.4.19)\n",
      "Requirement already satisfied: numpy in c:\\users\\megan\\anaconda3\\lib\\site-packages (from ta-lib) (1.21.5)\n",
      "Note: you may need to restart the kernel to use updated packages.\n"
     ]
    }
   ],
   "source": [
    "pip install ta-lib"
   ]
  },
  {
   "cell_type": "code",
   "execution_count": 17,
   "id": "d16442e1",
   "metadata": {},
   "outputs": [],
   "source": [
    "import talib as ta"
   ]
  },
  {
   "cell_type": "code",
   "execution_count": 18,
   "id": "386071e8",
   "metadata": {},
   "outputs": [],
   "source": [
    "data['rsi'] = ta.RSI(data['close'].values, timeperiod=4)\n",
    "data['adx'] = ta.ADX(data['high'].values, data['low'].values,\n",
    "                     data['open'].values, timeperiod=4)"
   ]
  },
  {
   "cell_type": "markdown",
   "id": "b3002686",
   "metadata": {},
   "source": [
    "## rolling average mean and correlation"
   ]
  },
  {
   "cell_type": "code",
   "execution_count": 19,
   "id": "ab0b0e1a",
   "metadata": {},
   "outputs": [],
   "source": [
    "# rolling average and correlation for last for last 3 days\n",
    "\n",
    "data['sma3'] = data['close'].rolling(window=3).mean()\n",
    "data['corr3'] = data['close'].rolling(window=3).corr(data['sma3'])\n",
    "\n",
    "# rolling average and correlation for last for last 5 days\n",
    "\n",
    "data['sma5'] = data['close'].rolling(window=3).mean()\n",
    "data['corr5'] = data['close'].rolling(window=3).corr(data['sma5'])\n",
    "                                                     \n",
    "# rolling average and correlation for last for last 10 days\n",
    "\n",
    "data['sma10'] = data['close'].rolling(window=3).mean()\n",
    "data['corr10'] = data['close'].rolling(window=3).corr(data['sma10'])                                                     "
   ]
  },
  {
   "cell_type": "markdown",
   "id": "4a7de150",
   "metadata": {},
   "source": [
    "## volatility"
   ]
  },
  {
   "cell_type": "code",
   "execution_count": 20,
   "id": "d8d5e338",
   "metadata": {},
   "outputs": [],
   "source": [
    "# 3 day volatility \n",
    "\n",
    "data['volatility3'] = data.rolling(\n",
    "    3, min_periods=3)['pct_change1'].std()*100\n",
    "\n",
    "# 5 day volatility\n",
    "data['volatility5'] = data.rolling(\n",
    "    5, min_periods=5)['pct_change1'].std()*100\n",
    "\n",
    "# 10 day volatility\n",
    "data['volatility10'] = data.rolling(\n",
    "    10, min_periods=10)['pct_change1'].std()*100"
   ]
  },
  {
   "cell_type": "code",
   "execution_count": 21,
   "id": "2c294e14",
   "metadata": {},
   "outputs": [
    {
     "data": {
      "text/html": [
       "<div>\n",
       "<style scoped>\n",
       "    .dataframe tbody tr th:only-of-type {\n",
       "        vertical-align: middle;\n",
       "    }\n",
       "\n",
       "    .dataframe tbody tr th {\n",
       "        vertical-align: top;\n",
       "    }\n",
       "\n",
       "    .dataframe thead th {\n",
       "        text-align: right;\n",
       "    }\n",
       "</style>\n",
       "<table border=\"1\" class=\"dataframe\">\n",
       "  <thead>\n",
       "    <tr style=\"text-align: right;\">\n",
       "      <th></th>\n",
       "      <th>open</th>\n",
       "      <th>high</th>\n",
       "      <th>low</th>\n",
       "      <th>close</th>\n",
       "      <th>adj_close</th>\n",
       "      <th>volume</th>\n",
       "      <th>future_returns</th>\n",
       "      <th>signal</th>\n",
       "      <th>pct_change1</th>\n",
       "      <th>pct_change3</th>\n",
       "      <th>...</th>\n",
       "      <th>adx</th>\n",
       "      <th>sma3</th>\n",
       "      <th>corr3</th>\n",
       "      <th>sma5</th>\n",
       "      <th>corr5</th>\n",
       "      <th>sma10</th>\n",
       "      <th>corr10</th>\n",
       "      <th>volatility3</th>\n",
       "      <th>volatility5</th>\n",
       "      <th>volatility10</th>\n",
       "    </tr>\n",
       "    <tr>\n",
       "      <th>Date</th>\n",
       "      <th></th>\n",
       "      <th></th>\n",
       "      <th></th>\n",
       "      <th></th>\n",
       "      <th></th>\n",
       "      <th></th>\n",
       "      <th></th>\n",
       "      <th></th>\n",
       "      <th></th>\n",
       "      <th></th>\n",
       "      <th></th>\n",
       "      <th></th>\n",
       "      <th></th>\n",
       "      <th></th>\n",
       "      <th></th>\n",
       "      <th></th>\n",
       "      <th></th>\n",
       "      <th></th>\n",
       "      <th></th>\n",
       "      <th></th>\n",
       "      <th></th>\n",
       "    </tr>\n",
       "  </thead>\n",
       "  <tbody>\n",
       "    <tr>\n",
       "      <th>2023-02-08</th>\n",
       "      <td>7864.700195</td>\n",
       "      <td>7934.299805</td>\n",
       "      <td>7864.700195</td>\n",
       "      <td>7885.200195</td>\n",
       "      <td>7885.200195</td>\n",
       "      <td>587150400</td>\n",
       "      <td>0.003297</td>\n",
       "      <td>1</td>\n",
       "      <td>0.002607</td>\n",
       "      <td>-0.002101</td>\n",
       "      <td>...</td>\n",
       "      <td>60.383554</td>\n",
       "      <td>7862.200195</td>\n",
       "      <td>0.687633</td>\n",
       "      <td>7862.200195</td>\n",
       "      <td>0.687633</td>\n",
       "      <td>7862.200195</td>\n",
       "      <td>0.687633</td>\n",
       "      <td>0.655824</td>\n",
       "      <td>0.712673</td>\n",
       "      <td>0.513602</td>\n",
       "    </tr>\n",
       "    <tr>\n",
       "      <th>2023-02-09</th>\n",
       "      <td>7885.200195</td>\n",
       "      <td>7949.600098</td>\n",
       "      <td>7874.200195</td>\n",
       "      <td>7911.200195</td>\n",
       "      <td>7911.200195</td>\n",
       "      <td>1061015400</td>\n",
       "      <td>-0.003628</td>\n",
       "      <td>0</td>\n",
       "      <td>0.003297</td>\n",
       "      <td>0.009507</td>\n",
       "      <td>...</td>\n",
       "      <td>66.127449</td>\n",
       "      <td>7887.033529</td>\n",
       "      <td>0.784287</td>\n",
       "      <td>7887.033529</td>\n",
       "      <td>0.784287</td>\n",
       "      <td>7887.033529</td>\n",
       "      <td>0.784287</td>\n",
       "      <td>0.049781</td>\n",
       "      <td>0.670698</td>\n",
       "      <td>0.515750</td>\n",
       "    </tr>\n",
       "    <tr>\n",
       "      <th>2023-02-10</th>\n",
       "      <td>7911.200195</td>\n",
       "      <td>7913.299805</td>\n",
       "      <td>7850.899902</td>\n",
       "      <td>7882.500000</td>\n",
       "      <td>7882.500000</td>\n",
       "      <td>974265500</td>\n",
       "      <td>0.008259</td>\n",
       "      <td>1</td>\n",
       "      <td>-0.003628</td>\n",
       "      <td>0.002263</td>\n",
       "      <td>...</td>\n",
       "      <td>58.762981</td>\n",
       "      <td>7892.966797</td>\n",
       "      <td>0.252763</td>\n",
       "      <td>7892.966797</td>\n",
       "      <td>0.252763</td>\n",
       "      <td>7892.966797</td>\n",
       "      <td>0.252763</td>\n",
       "      <td>0.381448</td>\n",
       "      <td>0.525180</td>\n",
       "      <td>0.544253</td>\n",
       "    </tr>\n",
       "    <tr>\n",
       "      <th>2023-02-13</th>\n",
       "      <td>7882.500000</td>\n",
       "      <td>7947.600098</td>\n",
       "      <td>7881.899902</td>\n",
       "      <td>7947.600098</td>\n",
       "      <td>7947.600098</td>\n",
       "      <td>570125100</td>\n",
       "      <td>0.000793</td>\n",
       "      <td>1</td>\n",
       "      <td>0.008259</td>\n",
       "      <td>0.007914</td>\n",
       "      <td>...</td>\n",
       "      <td>58.515727</td>\n",
       "      <td>7913.766764</td>\n",
       "      <td>0.784850</td>\n",
       "      <td>7913.766764</td>\n",
       "      <td>0.784850</td>\n",
       "      <td>7913.766764</td>\n",
       "      <td>0.784850</td>\n",
       "      <td>0.597027</td>\n",
       "      <td>0.424249</td>\n",
       "      <td>0.584775</td>\n",
       "    </tr>\n",
       "    <tr>\n",
       "      <th>2023-02-15</th>\n",
       "      <td>7953.850098</td>\n",
       "      <td>7958.020020</td>\n",
       "      <td>7921.319824</td>\n",
       "      <td>7955.000000</td>\n",
       "      <td>7955.000000</td>\n",
       "      <td>0</td>\n",
       "      <td>NaN</td>\n",
       "      <td>0</td>\n",
       "      <td>0.000931</td>\n",
       "      <td>0.005536</td>\n",
       "      <td>...</td>\n",
       "      <td>59.585733</td>\n",
       "      <td>7928.366699</td>\n",
       "      <td>0.946061</td>\n",
       "      <td>7928.366699</td>\n",
       "      <td>0.946061</td>\n",
       "      <td>7928.366699</td>\n",
       "      <td>0.946061</td>\n",
       "      <td>0.599681</td>\n",
       "      <td>0.428977</td>\n",
       "      <td>0.571654</td>\n",
       "    </tr>\n",
       "  </tbody>\n",
       "</table>\n",
       "<p>5 rows × 23 columns</p>\n",
       "</div>"
      ],
      "text/plain": [
       "                   open         high          low        close    adj_close  \\\n",
       "Date                                                                          \n",
       "2023-02-08  7864.700195  7934.299805  7864.700195  7885.200195  7885.200195   \n",
       "2023-02-09  7885.200195  7949.600098  7874.200195  7911.200195  7911.200195   \n",
       "2023-02-10  7911.200195  7913.299805  7850.899902  7882.500000  7882.500000   \n",
       "2023-02-13  7882.500000  7947.600098  7881.899902  7947.600098  7947.600098   \n",
       "2023-02-15  7953.850098  7958.020020  7921.319824  7955.000000  7955.000000   \n",
       "\n",
       "                volume  future_returns  signal  pct_change1  pct_change3  ...  \\\n",
       "Date                                                                      ...   \n",
       "2023-02-08   587150400        0.003297       1     0.002607    -0.002101  ...   \n",
       "2023-02-09  1061015400       -0.003628       0     0.003297     0.009507  ...   \n",
       "2023-02-10   974265500        0.008259       1    -0.003628     0.002263  ...   \n",
       "2023-02-13   570125100        0.000793       1     0.008259     0.007914  ...   \n",
       "2023-02-15           0             NaN       0     0.000931     0.005536  ...   \n",
       "\n",
       "                  adx         sma3     corr3         sma5     corr5  \\\n",
       "Date                                                                  \n",
       "2023-02-08  60.383554  7862.200195  0.687633  7862.200195  0.687633   \n",
       "2023-02-09  66.127449  7887.033529  0.784287  7887.033529  0.784287   \n",
       "2023-02-10  58.762981  7892.966797  0.252763  7892.966797  0.252763   \n",
       "2023-02-13  58.515727  7913.766764  0.784850  7913.766764  0.784850   \n",
       "2023-02-15  59.585733  7928.366699  0.946061  7928.366699  0.946061   \n",
       "\n",
       "                  sma10    corr10  volatility3  volatility5  volatility10  \n",
       "Date                                                                       \n",
       "2023-02-08  7862.200195  0.687633     0.655824     0.712673      0.513602  \n",
       "2023-02-09  7887.033529  0.784287     0.049781     0.670698      0.515750  \n",
       "2023-02-10  7892.966797  0.252763     0.381448     0.525180      0.544253  \n",
       "2023-02-13  7913.766764  0.784850     0.597027     0.424249      0.584775  \n",
       "2023-02-15  7928.366699  0.946061     0.599681     0.428977      0.571654  \n",
       "\n",
       "[5 rows x 23 columns]"
      ]
     },
     "execution_count": 21,
     "metadata": {},
     "output_type": "execute_result"
    }
   ],
   "source": [
    "data.tail()"
   ]
  },
  {
   "cell_type": "markdown",
   "id": "7c1fe5a0",
   "metadata": {},
   "source": [
    "drop and rows with na in"
   ]
  },
  {
   "cell_type": "code",
   "execution_count": 22,
   "id": "ff5ac54a",
   "metadata": {},
   "outputs": [],
   "source": [
    "data.dropna(inplace=True)"
   ]
  },
  {
   "cell_type": "code",
   "execution_count": 23,
   "id": "72ed6d10",
   "metadata": {},
   "outputs": [
    {
     "data": {
      "text/html": [
       "<div>\n",
       "<style scoped>\n",
       "    .dataframe tbody tr th:only-of-type {\n",
       "        vertical-align: middle;\n",
       "    }\n",
       "\n",
       "    .dataframe tbody tr th {\n",
       "        vertical-align: top;\n",
       "    }\n",
       "\n",
       "    .dataframe thead th {\n",
       "        text-align: right;\n",
       "    }\n",
       "</style>\n",
       "<table border=\"1\" class=\"dataframe\">\n",
       "  <thead>\n",
       "    <tr style=\"text-align: right;\">\n",
       "      <th></th>\n",
       "      <th>open</th>\n",
       "      <th>high</th>\n",
       "      <th>low</th>\n",
       "      <th>close</th>\n",
       "      <th>adj_close</th>\n",
       "      <th>volume</th>\n",
       "      <th>future_returns</th>\n",
       "      <th>signal</th>\n",
       "      <th>pct_change1</th>\n",
       "      <th>pct_change3</th>\n",
       "      <th>...</th>\n",
       "      <th>adx</th>\n",
       "      <th>sma3</th>\n",
       "      <th>corr3</th>\n",
       "      <th>sma5</th>\n",
       "      <th>corr5</th>\n",
       "      <th>sma10</th>\n",
       "      <th>corr10</th>\n",
       "      <th>volatility3</th>\n",
       "      <th>volatility5</th>\n",
       "      <th>volatility10</th>\n",
       "    </tr>\n",
       "    <tr>\n",
       "      <th>Date</th>\n",
       "      <th></th>\n",
       "      <th></th>\n",
       "      <th></th>\n",
       "      <th></th>\n",
       "      <th></th>\n",
       "      <th></th>\n",
       "      <th></th>\n",
       "      <th></th>\n",
       "      <th></th>\n",
       "      <th></th>\n",
       "      <th></th>\n",
       "      <th></th>\n",
       "      <th></th>\n",
       "      <th></th>\n",
       "      <th></th>\n",
       "      <th></th>\n",
       "      <th></th>\n",
       "      <th></th>\n",
       "      <th></th>\n",
       "      <th></th>\n",
       "      <th></th>\n",
       "    </tr>\n",
       "  </thead>\n",
       "  <tbody>\n",
       "    <tr>\n",
       "      <th>2021-01-18</th>\n",
       "      <td>6735.700195</td>\n",
       "      <td>6741.500000</td>\n",
       "      <td>6709.299805</td>\n",
       "      <td>6720.700195</td>\n",
       "      <td>6720.700195</td>\n",
       "      <td>359826900</td>\n",
       "      <td>-0.001146</td>\n",
       "      <td>0</td>\n",
       "      <td>-0.002227</td>\n",
       "      <td>-0.003676</td>\n",
       "      <td>...</td>\n",
       "      <td>29.507448</td>\n",
       "      <td>6752.800130</td>\n",
       "      <td>0.907002</td>\n",
       "      <td>6752.800130</td>\n",
       "      <td>0.907002</td>\n",
       "      <td>6752.800130</td>\n",
       "      <td>0.907002</td>\n",
       "      <td>0.910512</td>\n",
       "      <td>0.686281</td>\n",
       "      <td>1.305184</td>\n",
       "    </tr>\n",
       "    <tr>\n",
       "      <th>2021-01-19</th>\n",
       "      <td>6720.700195</td>\n",
       "      <td>6770.700195</td>\n",
       "      <td>6697.700195</td>\n",
       "      <td>6713.000000</td>\n",
       "      <td>6713.000000</td>\n",
       "      <td>618144700</td>\n",
       "      <td>0.004082</td>\n",
       "      <td>1</td>\n",
       "      <td>-0.001146</td>\n",
       "      <td>-0.013084</td>\n",
       "      <td>...</td>\n",
       "      <td>25.353681</td>\n",
       "      <td>6723.133464</td>\n",
       "      <td>0.878326</td>\n",
       "      <td>6723.133464</td>\n",
       "      <td>0.878326</td>\n",
       "      <td>6723.133464</td>\n",
       "      <td>0.878326</td>\n",
       "      <td>0.468518</td>\n",
       "      <td>0.643845</td>\n",
       "      <td>1.301774</td>\n",
       "    </tr>\n",
       "    <tr>\n",
       "      <th>2021-01-20</th>\n",
       "      <td>6713.000000</td>\n",
       "      <td>6751.799805</td>\n",
       "      <td>6697.500000</td>\n",
       "      <td>6740.399902</td>\n",
       "      <td>6740.399902</td>\n",
       "      <td>687499600</td>\n",
       "      <td>-0.003709</td>\n",
       "      <td>0</td>\n",
       "      <td>0.004082</td>\n",
       "      <td>0.000698</td>\n",
       "      <td>...</td>\n",
       "      <td>22.177491</td>\n",
       "      <td>6724.700033</td>\n",
       "      <td>-0.199372</td>\n",
       "      <td>6724.700033</td>\n",
       "      <td>-0.199372</td>\n",
       "      <td>6724.700033</td>\n",
       "      <td>-0.199372</td>\n",
       "      <td>0.337373</td>\n",
       "      <td>0.685577</td>\n",
       "      <td>0.614203</td>\n",
       "    </tr>\n",
       "    <tr>\n",
       "      <th>2021-01-21</th>\n",
       "      <td>6740.399902</td>\n",
       "      <td>6776.899902</td>\n",
       "      <td>6715.399902</td>\n",
       "      <td>6715.399902</td>\n",
       "      <td>6715.399902</td>\n",
       "      <td>621554400</td>\n",
       "      <td>-0.003023</td>\n",
       "      <td>0</td>\n",
       "      <td>-0.003709</td>\n",
       "      <td>-0.000789</td>\n",
       "      <td>...</td>\n",
       "      <td>25.582015</td>\n",
       "      <td>6722.933268</td>\n",
       "      <td>0.983336</td>\n",
       "      <td>6722.933268</td>\n",
       "      <td>0.983336</td>\n",
       "      <td>6722.933268</td>\n",
       "      <td>0.983336</td>\n",
       "      <td>0.397049</td>\n",
       "      <td>0.497986</td>\n",
       "      <td>0.603174</td>\n",
       "    </tr>\n",
       "    <tr>\n",
       "      <th>2021-01-22</th>\n",
       "      <td>6715.399902</td>\n",
       "      <td>6715.700195</td>\n",
       "      <td>6651.700195</td>\n",
       "      <td>6695.100098</td>\n",
       "      <td>6695.100098</td>\n",
       "      <td>693954900</td>\n",
       "      <td>-0.008394</td>\n",
       "      <td>0</td>\n",
       "      <td>-0.003023</td>\n",
       "      <td>-0.002666</td>\n",
       "      <td>...</td>\n",
       "      <td>26.287072</td>\n",
       "      <td>6716.966634</td>\n",
       "      <td>0.934597</td>\n",
       "      <td>6716.966634</td>\n",
       "      <td>0.934597</td>\n",
       "      <td>6716.966634</td>\n",
       "      <td>0.934597</td>\n",
       "      <td>0.431350</td>\n",
       "      <td>0.310527</td>\n",
       "      <td>0.582783</td>\n",
       "    </tr>\n",
       "  </tbody>\n",
       "</table>\n",
       "<p>5 rows × 23 columns</p>\n",
       "</div>"
      ],
      "text/plain": [
       "                   open         high          low        close    adj_close  \\\n",
       "Date                                                                          \n",
       "2021-01-18  6735.700195  6741.500000  6709.299805  6720.700195  6720.700195   \n",
       "2021-01-19  6720.700195  6770.700195  6697.700195  6713.000000  6713.000000   \n",
       "2021-01-20  6713.000000  6751.799805  6697.500000  6740.399902  6740.399902   \n",
       "2021-01-21  6740.399902  6776.899902  6715.399902  6715.399902  6715.399902   \n",
       "2021-01-22  6715.399902  6715.700195  6651.700195  6695.100098  6695.100098   \n",
       "\n",
       "               volume  future_returns  signal  pct_change1  pct_change3  ...  \\\n",
       "Date                                                                     ...   \n",
       "2021-01-18  359826900       -0.001146       0    -0.002227    -0.003676  ...   \n",
       "2021-01-19  618144700        0.004082       1    -0.001146    -0.013084  ...   \n",
       "2021-01-20  687499600       -0.003709       0     0.004082     0.000698  ...   \n",
       "2021-01-21  621554400       -0.003023       0    -0.003709    -0.000789  ...   \n",
       "2021-01-22  693954900       -0.008394       0    -0.003023    -0.002666  ...   \n",
       "\n",
       "                  adx         sma3     corr3         sma5     corr5  \\\n",
       "Date                                                                  \n",
       "2021-01-18  29.507448  6752.800130  0.907002  6752.800130  0.907002   \n",
       "2021-01-19  25.353681  6723.133464  0.878326  6723.133464  0.878326   \n",
       "2021-01-20  22.177491  6724.700033 -0.199372  6724.700033 -0.199372   \n",
       "2021-01-21  25.582015  6722.933268  0.983336  6722.933268  0.983336   \n",
       "2021-01-22  26.287072  6716.966634  0.934597  6716.966634  0.934597   \n",
       "\n",
       "                  sma10    corr10  volatility3  volatility5  volatility10  \n",
       "Date                                                                       \n",
       "2021-01-18  6752.800130  0.907002     0.910512     0.686281      1.305184  \n",
       "2021-01-19  6723.133464  0.878326     0.468518     0.643845      1.301774  \n",
       "2021-01-20  6724.700033 -0.199372     0.337373     0.685577      0.614203  \n",
       "2021-01-21  6722.933268  0.983336     0.397049     0.497986      0.603174  \n",
       "2021-01-22  6716.966634  0.934597     0.431350     0.310527      0.582783  \n",
       "\n",
       "[5 rows x 23 columns]"
      ]
     },
     "execution_count": 23,
     "metadata": {},
     "output_type": "execute_result"
    }
   ],
   "source": [
    "data.head()"
   ]
  },
  {
   "cell_type": "code",
   "execution_count": 24,
   "id": "f80ed32f",
   "metadata": {},
   "outputs": [
    {
     "data": {
      "text/plain": [
       "523"
      ]
     },
     "execution_count": 24,
     "metadata": {},
     "output_type": "execute_result"
    }
   ],
   "source": [
    "len(data)"
   ]
  },
  {
   "cell_type": "markdown",
   "id": "03e8d85b",
   "metadata": {},
   "source": [
    "## Creating X and y"
   ]
  },
  {
   "cell_type": "code",
   "execution_count": 25,
   "id": "9d0174c0",
   "metadata": {},
   "outputs": [],
   "source": [
    "y = data[[\"signal\"]].copy()"
   ]
  },
  {
   "cell_type": "code",
   "execution_count": 26,
   "id": "b23adf7f",
   "metadata": {},
   "outputs": [
    {
     "data": {
      "text/plain": [
       "Index(['open', 'high', 'low', 'close', 'adj_close', 'volume', 'future_returns',\n",
       "       'signal', 'pct_change1', 'pct_change3', 'pct_change5', 'pct_change10',\n",
       "       'rsi', 'adx', 'sma3', 'corr3', 'sma5', 'corr5', 'sma10', 'corr10',\n",
       "       'volatility3', 'volatility5', 'volatility10'],\n",
       "      dtype='object')"
      ]
     },
     "execution_count": 26,
     "metadata": {},
     "output_type": "execute_result"
    }
   ],
   "source": [
    "data.columns"
   ]
  },
  {
   "cell_type": "code",
   "execution_count": 27,
   "id": "70958345",
   "metadata": {},
   "outputs": [],
   "source": [
    "X = data[['pct_change1', 'pct_change3', 'pct_change5', 'pct_change10',\n",
    "       'rsi', 'adx', 'sma3', 'corr3', 'sma5', 'corr5', 'sma10', 'corr10',\n",
    "       'volatility3', 'volatility5', 'volatility10']].copy()"
   ]
  },
  {
   "cell_type": "markdown",
   "id": "71a4ff08",
   "metadata": {},
   "source": [
    "### Checking that features are stationary\n",
    "#### using adfuller from statsmodels, and dropping non-stationary\n"
   ]
  },
  {
   "cell_type": "code",
   "execution_count": 28,
   "id": "f7345fe6",
   "metadata": {},
   "outputs": [],
   "source": [
    "from statsmodels.tsa.stattools import adfuller"
   ]
  },
  {
   "cell_type": "markdown",
   "id": "70c81786",
   "metadata": {},
   "source": [
    "just checking first"
   ]
  },
  {
   "cell_type": "code",
   "execution_count": 29,
   "id": "e8de796e",
   "metadata": {},
   "outputs": [
    {
     "name": "stdout",
     "output_type": "stream",
     "text": [
      "pct_change1 is stationary.\n",
      "pct_change3 is stationary.\n",
      "pct_change5 is stationary.\n",
      "pct_change10 is stationary.\n",
      "rsi is stationary.\n",
      "adx is stationary.\n",
      "sma3 is not stationary, so I should drop it.\n",
      "corr3 is stationary.\n",
      "sma5 is not stationary, so I should drop it.\n",
      "corr5 is stationary.\n",
      "sma10 is not stationary, so I should drop it.\n",
      "corr10 is stationary.\n",
      "volatility3 is stationary.\n",
      "volatility5 is stationary.\n",
      "volatility10 is stationary.\n"
     ]
    }
   ],
   "source": [
    "def stationary(series):\n",
    "    result = adfuller(series)\n",
    "    if(result[1] < 0.05):\n",
    "        return 'stationary'\n",
    "    else:\n",
    "        return 'not stationary'\n",
    "\n",
    "for col in X.columns:\n",
    "    if stationary(data[col]) == 'not stationary':\n",
    "        print('%s is not stationary, so I should drop it.' % col)\n",
    "    else:\n",
    "        print('%s is stationary.' % col)"
   ]
  },
  {
   "cell_type": "code",
   "execution_count": 30,
   "id": "e6697a99",
   "metadata": {},
   "outputs": [],
   "source": [
    "X.drop(\"sma3\", axis=1, inplace=True)\n",
    "X.drop(\"sma5\", axis=1, inplace=True)\n",
    "X.drop(\"sma10\", axis=1, inplace=True)"
   ]
  },
  {
   "cell_type": "code",
   "execution_count": 31,
   "id": "55234f46",
   "metadata": {},
   "outputs": [
    {
     "data": {
      "text/html": [
       "<div>\n",
       "<style scoped>\n",
       "    .dataframe tbody tr th:only-of-type {\n",
       "        vertical-align: middle;\n",
       "    }\n",
       "\n",
       "    .dataframe tbody tr th {\n",
       "        vertical-align: top;\n",
       "    }\n",
       "\n",
       "    .dataframe thead th {\n",
       "        text-align: right;\n",
       "    }\n",
       "</style>\n",
       "<table border=\"1\" class=\"dataframe\">\n",
       "  <thead>\n",
       "    <tr style=\"text-align: right;\">\n",
       "      <th></th>\n",
       "      <th>pct_change1</th>\n",
       "      <th>pct_change3</th>\n",
       "      <th>pct_change5</th>\n",
       "      <th>pct_change10</th>\n",
       "      <th>rsi</th>\n",
       "      <th>adx</th>\n",
       "      <th>corr3</th>\n",
       "      <th>corr5</th>\n",
       "      <th>corr10</th>\n",
       "      <th>volatility3</th>\n",
       "      <th>volatility5</th>\n",
       "      <th>volatility10</th>\n",
       "    </tr>\n",
       "    <tr>\n",
       "      <th>Date</th>\n",
       "      <th></th>\n",
       "      <th></th>\n",
       "      <th></th>\n",
       "      <th></th>\n",
       "      <th></th>\n",
       "      <th></th>\n",
       "      <th></th>\n",
       "      <th></th>\n",
       "      <th></th>\n",
       "      <th></th>\n",
       "      <th></th>\n",
       "      <th></th>\n",
       "    </tr>\n",
       "  </thead>\n",
       "  <tbody>\n",
       "    <tr>\n",
       "      <th>2021-01-18</th>\n",
       "      <td>-0.002227</td>\n",
       "      <td>-0.003676</td>\n",
       "      <td>-0.011444</td>\n",
       "      <td>0.022642</td>\n",
       "      <td>46.031859</td>\n",
       "      <td>29.507448</td>\n",
       "      <td>0.907002</td>\n",
       "      <td>0.907002</td>\n",
       "      <td>0.907002</td>\n",
       "      <td>0.910512</td>\n",
       "      <td>0.686281</td>\n",
       "      <td>1.305184</td>\n",
       "    </tr>\n",
       "    <tr>\n",
       "      <th>2021-01-19</th>\n",
       "      <td>-0.001146</td>\n",
       "      <td>-0.013084</td>\n",
       "      <td>-0.006085</td>\n",
       "      <td>0.015229</td>\n",
       "      <td>43.618668</td>\n",
       "      <td>25.353681</td>\n",
       "      <td>0.878326</td>\n",
       "      <td>0.878326</td>\n",
       "      <td>0.878326</td>\n",
       "      <td>0.468518</td>\n",
       "      <td>0.643845</td>\n",
       "      <td>1.301774</td>\n",
       "    </tr>\n",
       "    <tr>\n",
       "      <th>2021-01-20</th>\n",
       "      <td>0.004082</td>\n",
       "      <td>0.000698</td>\n",
       "      <td>-0.000756</td>\n",
       "      <td>-0.014835</td>\n",
       "      <td>54.848875</td>\n",
       "      <td>22.177491</td>\n",
       "      <td>-0.199372</td>\n",
       "      <td>-0.199372</td>\n",
       "      <td>-0.199372</td>\n",
       "      <td>0.337373</td>\n",
       "      <td>0.685577</td>\n",
       "      <td>0.614203</td>\n",
       "    </tr>\n",
       "    <tr>\n",
       "      <th>2021-01-21</th>\n",
       "      <td>-0.003709</td>\n",
       "      <td>-0.000789</td>\n",
       "      <td>-0.012732</td>\n",
       "      <td>-0.020650</td>\n",
       "      <td>44.150501</td>\n",
       "      <td>25.582015</td>\n",
       "      <td>0.983336</td>\n",
       "      <td>0.983336</td>\n",
       "      <td>0.983336</td>\n",
       "      <td>0.397049</td>\n",
       "      <td>0.497986</td>\n",
       "      <td>0.603174</td>\n",
       "    </tr>\n",
       "    <tr>\n",
       "      <th>2021-01-22</th>\n",
       "      <td>-0.003023</td>\n",
       "      <td>-0.002666</td>\n",
       "      <td>-0.006028</td>\n",
       "      <td>-0.025926</td>\n",
       "      <td>36.452646</td>\n",
       "      <td>26.287072</td>\n",
       "      <td>0.934597</td>\n",
       "      <td>0.934597</td>\n",
       "      <td>0.934597</td>\n",
       "      <td>0.431350</td>\n",
       "      <td>0.310527</td>\n",
       "      <td>0.582783</td>\n",
       "    </tr>\n",
       "  </tbody>\n",
       "</table>\n",
       "</div>"
      ],
      "text/plain": [
       "            pct_change1  pct_change3  pct_change5  pct_change10        rsi  \\\n",
       "Date                                                                         \n",
       "2021-01-18    -0.002227    -0.003676    -0.011444      0.022642  46.031859   \n",
       "2021-01-19    -0.001146    -0.013084    -0.006085      0.015229  43.618668   \n",
       "2021-01-20     0.004082     0.000698    -0.000756     -0.014835  54.848875   \n",
       "2021-01-21    -0.003709    -0.000789    -0.012732     -0.020650  44.150501   \n",
       "2021-01-22    -0.003023    -0.002666    -0.006028     -0.025926  36.452646   \n",
       "\n",
       "                  adx     corr3     corr5    corr10  volatility3  volatility5  \\\n",
       "Date                                                                            \n",
       "2021-01-18  29.507448  0.907002  0.907002  0.907002     0.910512     0.686281   \n",
       "2021-01-19  25.353681  0.878326  0.878326  0.878326     0.468518     0.643845   \n",
       "2021-01-20  22.177491 -0.199372 -0.199372 -0.199372     0.337373     0.685577   \n",
       "2021-01-21  25.582015  0.983336  0.983336  0.983336     0.397049     0.497986   \n",
       "2021-01-22  26.287072  0.934597  0.934597  0.934597     0.431350     0.310527   \n",
       "\n",
       "            volatility10  \n",
       "Date                      \n",
       "2021-01-18      1.305184  \n",
       "2021-01-19      1.301774  \n",
       "2021-01-20      0.614203  \n",
       "2021-01-21      0.603174  \n",
       "2021-01-22      0.582783  "
      ]
     },
     "execution_count": 31,
     "metadata": {},
     "output_type": "execute_result"
    }
   ],
   "source": [
    "X.head()"
   ]
  },
  {
   "cell_type": "markdown",
   "id": "d51c0c39",
   "metadata": {},
   "source": [
    "## checking for correlation between the feature"
   ]
  },
  {
   "cell_type": "code",
   "execution_count": 32,
   "id": "d164b915",
   "metadata": {},
   "outputs": [
    {
     "name": "stdout",
     "output_type": "stream",
     "text": [
      "MultiIndex([(       'corr5',       'corr10'),\n",
      "            (       'corr3',       'corr10'),\n",
      "            (       'corr3',        'corr5'),\n",
      "            ( 'pct_change5',          'rsi'),\n",
      "            ( 'volatility5', 'volatility10'),\n",
      "            ( 'volatility3',  'volatility5'),\n",
      "            ( 'pct_change3',          'rsi'),\n",
      "            ('pct_change10',          'rsi'),\n",
      "            ( 'pct_change3',  'pct_change5'),\n",
      "            ( 'pct_change5', 'pct_change10'),\n",
      "            ( 'volatility3', 'volatility10')],\n",
      "           )\n"
     ]
    }
   ],
   "source": [
    "def get_correlated(X, limit):\n",
    "    # Calculate the correlation matrix\n",
    "    correl = X.corr()\n",
    "\n",
    "    # Unstack the matrix\n",
    "    correl = correl.abs().unstack()\n",
    "\n",
    "    # Recurring & redundant pair\n",
    "    pairs_to_drop = set()\n",
    "    cols = X.corr().columns\n",
    "    for i in range(0, X.corr().shape[1]):\n",
    "        for j in range(0, i+1):\n",
    "            pairs_to_drop.add((cols[i], cols[j]))\n",
    "\n",
    "    # Drop the recurring & redundant pair\n",
    "    correl = correl.drop(labels=pairs_to_drop).sort_values(ascending=False)\n",
    "\n",
    "    return correl[correl > limit].index\n",
    "\n",
    "\n",
    "print(get_correlated(X, 0.6))"
   ]
  },
  {
   "cell_type": "code",
   "execution_count": 33,
   "id": "8aa5eb26",
   "metadata": {},
   "outputs": [
    {
     "name": "stdout",
     "output_type": "stream",
     "text": [
      "higher than 70% correlated:\n",
      "MultiIndex([(       'corr5',       'corr10'),\n",
      "            (       'corr3',       'corr10'),\n",
      "            (       'corr3',        'corr5'),\n",
      "            ( 'pct_change5',          'rsi'),\n",
      "            ( 'volatility5', 'volatility10'),\n",
      "            ( 'volatility3',  'volatility5'),\n",
      "            ( 'pct_change3',          'rsi'),\n",
      "            ('pct_change10',          'rsi'),\n",
      "            ( 'pct_change3',  'pct_change5')],\n",
      "           )\n",
      "higher than 80% correlated:\n",
      "MultiIndex([(      'corr5',       'corr10'),\n",
      "            (      'corr3',       'corr10'),\n",
      "            (      'corr3',        'corr5'),\n",
      "            ('pct_change5',          'rsi'),\n",
      "            ('volatility5', 'volatility10')],\n",
      "           )\n",
      "higher than 90% correlated:\n",
      "MultiIndex([('corr5', 'corr10'),\n",
      "            ('corr3', 'corr10'),\n",
      "            ('corr3',  'corr5')],\n",
      "           )\n"
     ]
    }
   ],
   "source": [
    "print(\"higher than 70% correlated:\")\n",
    "print(get_correlated(X, 0.7))\n",
    "print(\"higher than 80% correlated:\")\n",
    "print(get_correlated(X, 0.8))\n",
    "print(\"higher than 90% correlated:\")\n",
    "print(get_correlated(X, 0.9))"
   ]
  },
  {
   "cell_type": "markdown",
   "id": "a332494c",
   "metadata": {},
   "source": [
    "all the correlations are highly correlated, so I'll drop corr 5 and corr10.\n",
    "the higher volatilities are quite highly correlated as well, so i'll drop volatility5"
   ]
  },
  {
   "cell_type": "code",
   "execution_count": 34,
   "id": "6c6912fa",
   "metadata": {},
   "outputs": [],
   "source": [
    "X = X.drop([\"corr5\", \"corr10\", \"volatility5\"], axis=1)"
   ]
  },
  {
   "cell_type": "code",
   "execution_count": 35,
   "id": "509599ad",
   "metadata": {},
   "outputs": [
    {
     "data": {
      "text/plain": [
       "Index(['pct_change1', 'pct_change3', 'pct_change5', 'pct_change10', 'rsi',\n",
       "       'adx', 'corr3', 'volatility3', 'volatility10'],\n",
       "      dtype='object')"
      ]
     },
     "execution_count": 35,
     "metadata": {},
     "output_type": "execute_result"
    }
   ],
   "source": [
    "X.columns"
   ]
  },
  {
   "cell_type": "markdown",
   "id": "af94a4b9",
   "metadata": {},
   "source": [
    "# Splitting the data into training and testing"
   ]
  },
  {
   "cell_type": "markdown",
   "id": "9830f005",
   "metadata": {},
   "source": [
    "I will split it 70% train, 15% valid and 15% test\n",
    "import from sklearn"
   ]
  },
  {
   "cell_type": "code",
   "execution_count": 36,
   "id": "c94c43bc",
   "metadata": {},
   "outputs": [],
   "source": [
    "from sklearn.model_selection import train_test_split"
   ]
  },
  {
   "cell_type": "code",
   "execution_count": 37,
   "id": "ab385154",
   "metadata": {},
   "outputs": [],
   "source": [
    "X_train, X_temp, y_train, y_temp = train_test_split(\n",
    "    X, y, train_size=0.70, shuffle=False)\n",
    "X_valid, X_test, y_valid, y_test = train_test_split(\n",
    "    X_temp, y_temp, train_size=0.50, shuffle=False)"
   ]
  },
  {
   "cell_type": "code",
   "execution_count": 38,
   "id": "a239977f",
   "metadata": {},
   "outputs": [
    {
     "name": "stdout",
     "output_type": "stream",
     "text": [
      "366\n",
      "78\n",
      "79\n"
     ]
    }
   ],
   "source": [
    "print(len(X_train))\n",
    "print(len(X_valid))\n",
    "print(len(X_test))"
   ]
  },
  {
   "cell_type": "markdown",
   "id": "5c3bce2f",
   "metadata": {},
   "source": [
    "#### visualising the test data"
   ]
  },
  {
   "cell_type": "code",
   "execution_count": 39,
   "id": "0ec4802f",
   "metadata": {},
   "outputs": [
    {
     "data": {
      "image/png": "[encoded data removed]",
      "text/plain": [
       "<Figure size 1080x504 with 1 Axes>"
      ]
     },
     "metadata": {
      "needs_background": "light"
     },
     "output_type": "display_data"
    }
   ],
   "source": [
    "plt.figure(figsize=(15, 7))\n",
    "\n",
    "plt.plot(X_train['pct_change1'], linestyle='None',\n",
    "          marker=\".\", markersize=8.0, label='X_train data')\n",
    "plt.plot(X_valid['pct_change1'], linestyle='None',\n",
    "         marker='>', markersize=8.0, label='X_valid data')\n",
    "plt.plot(X_test['pct_change1'], linestyle='None',\n",
    "         marker='*', markersize=8.0, label='X_test data')\n",
    "\n",
    "plt.title(\"Visualising Train, Valid, and Test Datasets (pct_change1 Column)\", fontsize=14)\n",
    "plt.xlabel('Year-Month', fontsize=12)\n",
    "plt.ylabel('% change (%)', fontsize=12)\n",
    "\n",
    "# Display the plot\n",
    "plt.legend()\n",
    "plt.show()"
   ]
  },
  {
   "cell_type": "markdown",
   "id": "b675785d",
   "metadata": {},
   "source": [
    "# Random Forrest Classification"
   ]
  },
  {
   "cell_type": "code",
   "execution_count": 41,
   "id": "91f7c018",
   "metadata": {},
   "outputs": [],
   "source": [
    "from sklearn.ensemble import RandomForestClassifier"
   ]
  },
  {
   "cell_type": "code",
   "execution_count": 42,
   "id": "89e2e79c",
   "metadata": {},
   "outputs": [],
   "source": [
    "rf_model = RandomForestClassifier(n_estimators=3, max_features=3, max_depth=2, random_state=4)"
   ]
  },
  {
   "cell_type": "code",
   "execution_count": 44,
   "id": "37611ac4",
   "metadata": {},
   "outputs": [
    {
     "data": {
      "text/plain": [
       "RandomForestClassifier(max_depth=2, max_features=3, n_estimators=3,\n",
       "                       random_state=4)"
      ]
     },
     "execution_count": 44,
     "metadata": {},
     "output_type": "execute_result"
    }
   ],
   "source": [
    "rf_model.fit(X_train, y_train[\"signal\"])"
   ]
  },
  {
   "cell_type": "code",
   "execution_count": 48,
   "id": "b50560c8",
   "metadata": {},
   "outputs": [],
   "source": [
    "y_pred_rf = rf_model.predict(X_test)"
   ]
  },
  {
   "cell_type": "code",
   "execution_count": 46,
   "id": "9e5e8998",
   "metadata": {},
   "outputs": [],
   "source": [
    "from sklearn.metrics import classification_report"
   ]
  },
  {
   "cell_type": "code",
   "execution_count": 49,
   "id": "889375d9",
   "metadata": {},
   "outputs": [
    {
     "name": "stdout",
     "output_type": "stream",
     "text": [
      "              precision    recall  f1-score   support\n",
      "\n",
      "           0       0.46      0.41      0.43        32\n",
      "           1       0.63      0.68      0.65        47\n",
      "\n",
      "    accuracy                           0.57        79\n",
      "   macro avg       0.55      0.54      0.54        79\n",
      "weighted avg       0.56      0.57      0.56        79\n",
      "\n"
     ]
    }
   ],
   "source": [
    "print(classification_report(y_test, y_pred_rf))"
   ]
  },
  {
   "cell_type": "markdown",
   "id": "9860a946",
   "metadata": {},
   "source": [
    "## Accuracy for Random Forest Model = 0.57"
   ]
  },
  {
   "cell_type": "markdown",
   "id": "b460387c",
   "metadata": {},
   "source": [
    "# K Nearest Neighbours"
   ]
  },
  {
   "cell_type": "code",
   "execution_count": 50,
   "id": "99dc18b2",
   "metadata": {},
   "outputs": [],
   "source": [
    "from sklearn.neighbors import KNeighborsClassifier"
   ]
  },
  {
   "cell_type": "code",
   "execution_count": 52,
   "id": "790dc8a8",
   "metadata": {},
   "outputs": [
    {
     "data": {
      "text/plain": [
       "KNeighborsClassifier()"
      ]
     },
     "execution_count": 52,
     "metadata": {},
     "output_type": "execute_result"
    }
   ],
   "source": [
    "knn_model = KNeighborsClassifier(n_neighbors=5)\n",
    "knn_model.fit(X_train, y_train[\"signal\"])"
   ]
  },
  {
   "cell_type": "code",
   "execution_count": 53,
   "id": "d81db273",
   "metadata": {},
   "outputs": [],
   "source": [
    "y_pred_knn = knn_model.predict(X_test)"
   ]
  },
  {
   "cell_type": "code",
   "execution_count": 54,
   "id": "de743bda",
   "metadata": {},
   "outputs": [
    {
     "name": "stdout",
     "output_type": "stream",
     "text": [
      "              precision    recall  f1-score   support\n",
      "\n",
      "           0       0.43      0.69      0.53        32\n",
      "           1       0.64      0.38      0.48        47\n",
      "\n",
      "    accuracy                           0.51        79\n",
      "   macro avg       0.54      0.54      0.51        79\n",
      "weighted avg       0.56      0.51      0.50        79\n",
      "\n"
     ]
    }
   ],
   "source": [
    "print(classification_report(y_test, y_pred_knn))"
   ]
  },
  {
   "cell_type": "markdown",
   "id": "1b63ab88",
   "metadata": {},
   "source": [
    "## Accuracy for K nearest neighbours = 0.51"
   ]
  },
  {
   "cell_type": "markdown",
   "id": "e2e42191",
   "metadata": {},
   "source": [
    "# Naive Bayes"
   ]
  },
  {
   "cell_type": "code",
   "execution_count": 55,
   "id": "a8cfe6e1",
   "metadata": {},
   "outputs": [],
   "source": [
    "from sklearn.naive_bayes import GaussianNB"
   ]
  },
  {
   "cell_type": "code",
   "execution_count": 56,
   "id": "a9cab0d6",
   "metadata": {},
   "outputs": [],
   "source": [
    "nb_model = GaussianNB()\n",
    "nb_model = nb_model.fit(X_train, y_train[\"signal\"])"
   ]
  },
  {
   "cell_type": "code",
   "execution_count": 57,
   "id": "a8bc43c9",
   "metadata": {},
   "outputs": [],
   "source": [
    "y_pred_nb = nb_model.predict(X_test)"
   ]
  },
  {
   "cell_type": "code",
   "execution_count": 58,
   "id": "14607547",
   "metadata": {},
   "outputs": [
    {
     "name": "stdout",
     "output_type": "stream",
     "text": [
      "              precision    recall  f1-score   support\n",
      "\n",
      "           0       0.43      0.78      0.56        32\n",
      "           1       0.67      0.30      0.41        47\n",
      "\n",
      "    accuracy                           0.49        79\n",
      "   macro avg       0.55      0.54      0.48        79\n",
      "weighted avg       0.57      0.49      0.47        79\n",
      "\n"
     ]
    }
   ],
   "source": [
    "print(classification_report(y_test, y_pred_nb))"
   ]
  },
  {
   "cell_type": "markdown",
   "id": "b283017c",
   "metadata": {},
   "source": [
    "## Naive Bayes Accuracy = 0.49"
   ]
  },
  {
   "cell_type": "markdown",
   "id": "94c1354f",
   "metadata": {},
   "source": [
    "# Logistic Regression"
   ]
  },
  {
   "cell_type": "code",
   "execution_count": 59,
   "id": "6a707dcc",
   "metadata": {},
   "outputs": [],
   "source": [
    "from sklearn.linear_model import LogisticRegression"
   ]
  },
  {
   "cell_type": "code",
   "execution_count": 60,
   "id": "f02d499f",
   "metadata": {},
   "outputs": [
    {
     "name": "stderr",
     "output_type": "stream",
     "text": [
      "C:\\Users\\megan\\anaconda3\\lib\\site-packages\\sklearn\\linear_model\\_logistic.py:814: ConvergenceWarning: lbfgs failed to converge (status=1):\n",
      "STOP: TOTAL NO. of ITERATIONS REACHED LIMIT.\n",
      "\n",
      "Increase the number of iterations (max_iter) or scale the data as shown in:\n",
      "    https://scikit-learn.org/stable/modules/preprocessing.html\n",
      "Please also refer to the documentation for alternative solver options:\n",
      "    https://scikit-learn.org/stable/modules/linear_model.html#logistic-regression\n",
      "  n_iter_i = _check_optimize_result(\n"
     ]
    }
   ],
   "source": [
    "lg_model = LogisticRegression()\n",
    "lg_model = lg_model.fit(X_train, y_train[\"signal\"])"
   ]
  },
  {
   "cell_type": "code",
   "execution_count": 67,
   "id": "9ff232c8",
   "metadata": {},
   "outputs": [],
   "source": [
    "y_pred_lg = lg_model.predict(X_test)"
   ]
  },
  {
   "cell_type": "code",
   "execution_count": 68,
   "id": "ca3684c7",
   "metadata": {},
   "outputs": [
    {
     "name": "stdout",
     "output_type": "stream",
     "text": [
      "              precision    recall  f1-score   support\n",
      "\n",
      "           0       0.43      0.72      0.53        32\n",
      "           1       0.64      0.34      0.44        47\n",
      "\n",
      "    accuracy                           0.49        79\n",
      "   macro avg       0.53      0.53      0.49        79\n",
      "weighted avg       0.55      0.49      0.48        79\n",
      "\n"
     ]
    }
   ],
   "source": [
    "print(classification_report(y_test, y_pred_lg))"
   ]
  },
  {
   "cell_type": "markdown",
   "id": "413b9cad",
   "metadata": {},
   "source": [
    "## Logistic regression accuracy = 0.49"
   ]
  },
  {
   "cell_type": "markdown",
   "id": "4b780a60",
   "metadata": {},
   "source": [
    "# Support Vector Machines"
   ]
  },
  {
   "cell_type": "code",
   "execution_count": 61,
   "id": "4da1cc21",
   "metadata": {},
   "outputs": [],
   "source": [
    "from sklearn.svm import SVC"
   ]
  },
  {
   "cell_type": "code",
   "execution_count": 62,
   "id": "23a491cc",
   "metadata": {},
   "outputs": [],
   "source": [
    "svm_model = SVC()\n",
    "svm_model = svm_model.fit(X_train, y_train[\"signal\"])"
   ]
  },
  {
   "cell_type": "code",
   "execution_count": 65,
   "id": "f2a738d6",
   "metadata": {},
   "outputs": [],
   "source": [
    "y_pred_svm = svm_model.predict(X_test)"
   ]
  },
  {
   "cell_type": "code",
   "execution_count": 66,
   "id": "f4e15144",
   "metadata": {},
   "outputs": [
    {
     "name": "stdout",
     "output_type": "stream",
     "text": [
      "              precision    recall  f1-score   support\n",
      "\n",
      "           0       0.44      0.62      0.52        32\n",
      "           1       0.65      0.47      0.54        47\n",
      "\n",
      "    accuracy                           0.53        79\n",
      "   macro avg       0.55      0.55      0.53        79\n",
      "weighted avg       0.56      0.53      0.53        79\n",
      "\n"
     ]
    }
   ],
   "source": [
    "print(classification_report(y_test, y_pred_svm))"
   ]
  },
  {
   "cell_type": "markdown",
   "id": "d95c8c51",
   "metadata": {},
   "source": [
    "## Support vector machines accuracy = 0.53"
   ]
  },
  {
   "cell_type": "markdown",
   "id": "a98c95b8",
   "metadata": {},
   "source": [
    "# Artificial Neural Networks"
   ]
  },
  {
   "cell_type": "code",
   "execution_count": 69,
   "id": "0e61b404",
   "metadata": {},
   "outputs": [],
   "source": [
    "from sklearn.neural_network import MLPClassifier"
   ]
  },
  {
   "cell_type": "code",
   "execution_count": 70,
   "id": "8773dd22",
   "metadata": {},
   "outputs": [],
   "source": [
    "ann_model = MLPClassifier(alpha=1e-05, hidden_layer_sizes=(5, 2), random_state=1,\n",
    "                    solver='lbfgs')\n",
    "ann_model = ann_model.fit(X_train, y_train[\"signal\"])"
   ]
  },
  {
   "cell_type": "code",
   "execution_count": 71,
   "id": "2753cf8d",
   "metadata": {},
   "outputs": [],
   "source": [
    "y_pred_ann = svm_model.predict(X_test)"
   ]
  },
  {
   "cell_type": "code",
   "execution_count": 72,
   "id": "6785d77d",
   "metadata": {},
   "outputs": [
    {
     "name": "stdout",
     "output_type": "stream",
     "text": [
      "              precision    recall  f1-score   support\n",
      "\n",
      "           0       0.44      0.62      0.52        32\n",
      "           1       0.65      0.47      0.54        47\n",
      "\n",
      "    accuracy                           0.53        79\n",
      "   macro avg       0.55      0.55      0.53        79\n",
      "weighted avg       0.56      0.53      0.53        79\n",
      "\n"
     ]
    }
   ],
   "source": [
    "print(classification_report(y_test, y_pred_ann))"
   ]
  },
  {
   "cell_type": "markdown",
   "id": "22e61981",
   "metadata": {},
   "source": [
    "## Artificial neural networks acurracy = 0.53 "
   ]
  },
  {
   "cell_type": "markdown",
   "id": "3d99b09f",
   "metadata": {},
   "source": [
    "# Random Forrest #2"
   ]
  },
  {
   "cell_type": "code",
   "execution_count": 73,
   "id": "5a6381af",
   "metadata": {},
   "outputs": [],
   "source": [
    "rf2_model = RandomForestClassifier(n_estimators=50, min_samples_split=10, random_state=1)\n",
    "rf2_model = rf2_model.fit(X_train, y_train[\"signal\"])"
   ]
  },
  {
   "cell_type": "code",
   "execution_count": 74,
   "id": "f6164468",
   "metadata": {},
   "outputs": [],
   "source": [
    "y_pred_rf2 = rf2_model.predict(X_test)"
   ]
  },
  {
   "cell_type": "code",
   "execution_count": 75,
   "id": "3766aa60",
   "metadata": {},
   "outputs": [
    {
     "name": "stdout",
     "output_type": "stream",
     "text": [
      "              precision    recall  f1-score   support\n",
      "\n",
      "           0       0.48      0.75      0.59        32\n",
      "           1       0.72      0.45      0.55        47\n",
      "\n",
      "    accuracy                           0.57        79\n",
      "   macro avg       0.60      0.60      0.57        79\n",
      "weighted avg       0.63      0.57      0.57        79\n",
      "\n"
     ]
    }
   ],
   "source": [
    "print(classification_report(y_test, y_pred_rf2))"
   ]
  },
  {
   "cell_type": "markdown",
   "id": "af5c663f",
   "metadata": {},
   "source": [
    "## second randon forest accuracy = 0.57"
   ]
  },
  {
   "cell_type": "markdown",
   "id": "4a584c61",
   "metadata": {},
   "source": [
    "# Ridge"
   ]
  },
  {
   "cell_type": "code",
   "execution_count": 77,
   "id": "7f8a8975",
   "metadata": {},
   "outputs": [],
   "source": [
    "from sklearn.linear_model import Ridge\n",
    "\n",
    "rr_model = Ridge(alpha=.1)\n",
    "rr_model = rr_model.fit(X_train, y_train[\"signal\"])"
   ]
  },
  {
   "cell_type": "code",
   "execution_count": 78,
   "id": "bbced00e",
   "metadata": {},
   "outputs": [],
   "source": [
    "y_pred_rr = rr_model.predict(X_test)"
   ]
  },
  {
   "cell_type": "code",
   "execution_count": 83,
   "id": "7cd02e59",
   "metadata": {},
   "outputs": [],
   "source": [
    "y_pred_rr = [round(num) for num in y_pred_rr]"
   ]
  },
  {
   "cell_type": "code",
   "execution_count": 85,
   "id": "68658118",
   "metadata": {},
   "outputs": [
    {
     "name": "stdout",
     "output_type": "stream",
     "text": [
      "              precision    recall  f1-score   support\n",
      "\n",
      "           0       0.43      0.72      0.53        32\n",
      "           1       0.64      0.34      0.44        47\n",
      "\n",
      "    accuracy                           0.49        79\n",
      "   macro avg       0.53      0.53      0.49        79\n",
      "weighted avg       0.55      0.49      0.48        79\n",
      "\n"
     ]
    }
   ],
   "source": [
    "print(classification_report(y_test, y_pred_rr))"
   ]
  },
  {
   "cell_type": "markdown",
   "id": "a33c3485",
   "metadata": {},
   "source": [
    "## Ridge accuracy = 0.49"
   ]
  },
  {
   "cell_type": "markdown",
   "id": "e023598f",
   "metadata": {},
   "source": [
    "# Neural Network"
   ]
  },
  {
   "cell_type": "code",
   "execution_count": 86,
   "id": "5ec73581",
   "metadata": {},
   "outputs": [],
   "source": [
    "import tensorflow as tf"
   ]
  },
  {
   "cell_type": "code",
   "execution_count": 87,
   "id": "e654f535",
   "metadata": {},
   "outputs": [],
   "source": [
    "nn_model = tf.keras.Sequential([\n",
    "    tf.keras.layers.Dense(16, activation='relu'),\n",
    "    tf.keras.layers.Dense(16, activation='relu'),\n",
    "    tf.keras.layers.Dense(1, activation='sigmoid')\n",
    "])\n"
   ]
  },
  {
   "cell_type": "code",
   "execution_count": 89,
   "id": "0e5b050d",
   "metadata": {},
   "outputs": [],
   "source": [
    "nn_model.compile(optimizer=tf.keras.optimizers.Adam(learning_rate=0.001),\n",
    "             loss=tf.keras.losses.BinaryCrossentropy(),\n",
    "             metrics=['accuracy'])"
   ]
  },
  {
   "cell_type": "code",
   "execution_count": 91,
   "id": "d35352d0",
   "metadata": {},
   "outputs": [
    {
     "name": "stdout",
     "output_type": "stream",
     "text": [
      "12/12 [==============================] - 0s 2ms/step - loss: 1.3634 - accuracy: 0.4672\n"
     ]
    },
    {
     "data": {
      "text/plain": [
       "[1.3633768558502197, 0.46721312403678894]"
      ]
     },
     "execution_count": 91,
     "metadata": {},
     "output_type": "execute_result"
    }
   ],
   "source": [
    "nn_model.evaluate(X_train, y_train)"
   ]
  },
  {
   "cell_type": "code",
   "execution_count": 93,
   "id": "429aee54",
   "metadata": {},
   "outputs": [
    {
     "name": "stdout",
     "output_type": "stream",
     "text": [
      "3/3 [==============================] - 0s 2ms/step - loss: 1.3823 - accuracy: 0.4359\n"
     ]
    },
    {
     "data": {
      "text/plain": [
       "[1.382324457168579, 0.43589743971824646]"
      ]
     },
     "execution_count": 93,
     "metadata": {},
     "output_type": "execute_result"
    }
   ],
   "source": [
    "nn_model.evaluate(X_valid, y_valid)"
   ]
  },
  {
   "cell_type": "code",
   "execution_count": 94,
   "id": "f749b6e2",
   "metadata": {},
   "outputs": [
    {
     "name": "stdout",
     "output_type": "stream",
     "text": [
      "Epoch 1/20\n",
      "23/23 [==============================] - 1s 4ms/step - loss: 0.8801 - accuracy: 0.4809 - val_loss: 0.7219 - val_accuracy: 0.5128\n",
      "Epoch 2/20\n",
      "23/23 [==============================] - 0s 2ms/step - loss: 0.7287 - accuracy: 0.4454 - val_loss: 0.6999 - val_accuracy: 0.4615\n",
      "Epoch 3/20\n",
      "23/23 [==============================] - 0s 2ms/step - loss: 0.7123 - accuracy: 0.4863 - val_loss: 0.6922 - val_accuracy: 0.5128\n",
      "Epoch 4/20\n",
      "23/23 [==============================] - 0s 2ms/step - loss: 0.7005 - accuracy: 0.5027 - val_loss: 0.6919 - val_accuracy: 0.5769\n",
      "Epoch 5/20\n",
      "23/23 [==============================] - 0s 2ms/step - loss: 0.7018 - accuracy: 0.5410 - val_loss: 0.6925 - val_accuracy: 0.5769\n",
      "Epoch 6/20\n",
      "23/23 [==============================] - 0s 2ms/step - loss: 0.6962 - accuracy: 0.5055 - val_loss: 0.6887 - val_accuracy: 0.5897\n",
      "Epoch 7/20\n",
      "23/23 [==============================] - 0s 2ms/step - loss: 0.6927 - accuracy: 0.5109 - val_loss: 0.6933 - val_accuracy: 0.6026\n",
      "Epoch 8/20\n",
      "23/23 [==============================] - 0s 2ms/step - loss: 0.6946 - accuracy: 0.5410 - val_loss: 0.6834 - val_accuracy: 0.5513\n",
      "Epoch 9/20\n",
      "23/23 [==============================] - 0s 2ms/step - loss: 0.6930 - accuracy: 0.5355 - val_loss: 0.7151 - val_accuracy: 0.4744\n",
      "Epoch 10/20\n",
      "23/23 [==============================] - 0s 2ms/step - loss: 0.6894 - accuracy: 0.5082 - val_loss: 0.6814 - val_accuracy: 0.5641\n",
      "Epoch 11/20\n",
      "23/23 [==============================] - 0s 2ms/step - loss: 0.6874 - accuracy: 0.5301 - val_loss: 0.6956 - val_accuracy: 0.5385\n",
      "Epoch 12/20\n",
      "23/23 [==============================] - 0s 2ms/step - loss: 0.7123 - accuracy: 0.5219 - val_loss: 0.6892 - val_accuracy: 0.5897\n",
      "Epoch 13/20\n",
      "23/23 [==============================] - 0s 2ms/step - loss: 0.6937 - accuracy: 0.5137 - val_loss: 0.6820 - val_accuracy: 0.6282\n",
      "Epoch 14/20\n",
      "23/23 [==============================] - 0s 2ms/step - loss: 0.7018 - accuracy: 0.5273 - val_loss: 0.6807 - val_accuracy: 0.5897\n",
      "Epoch 15/20\n",
      "23/23 [==============================] - 0s 2ms/step - loss: 0.6894 - accuracy: 0.5027 - val_loss: 0.6846 - val_accuracy: 0.5513\n",
      "Epoch 16/20\n",
      "23/23 [==============================] - 0s 2ms/step - loss: 0.6984 - accuracy: 0.5137 - val_loss: 0.7173 - val_accuracy: 0.4615\n",
      "Epoch 17/20\n",
      "23/23 [==============================] - 0s 2ms/step - loss: 0.7054 - accuracy: 0.5109 - val_loss: 0.6796 - val_accuracy: 0.5513\n",
      "Epoch 18/20\n",
      "23/23 [==============================] - 0s 2ms/step - loss: 0.6933 - accuracy: 0.5191 - val_loss: 0.6789 - val_accuracy: 0.6026\n",
      "Epoch 19/20\n",
      "23/23 [==============================] - 0s 2ms/step - loss: 0.6864 - accuracy: 0.5656 - val_loss: 0.6721 - val_accuracy: 0.6154\n",
      "Epoch 20/20\n",
      "23/23 [==============================] - 0s 2ms/step - loss: 0.6907 - accuracy: 0.5437 - val_loss: 0.6908 - val_accuracy: 0.5256\n"
     ]
    },
    {
     "data": {
      "text/plain": [
       "<keras.callbacks.History at 0x20d04860f10>"
      ]
     },
     "execution_count": 94,
     "metadata": {},
     "output_type": "execute_result"
    }
   ],
   "source": [
    "nn_model.fit(X_train, y_train, batch_size=16, epochs=20, validation_data=(X_valid, y_valid))"
   ]
  },
  {
   "cell_type": "code",
   "execution_count": 95,
   "id": "d65bbe97",
   "metadata": {},
   "outputs": [
    {
     "name": "stdout",
     "output_type": "stream",
     "text": [
      "3/3 [==============================] - 0s 2ms/step - loss: 0.7114 - accuracy: 0.4810\n"
     ]
    },
    {
     "data": {
      "text/plain": [
       "[0.711376428604126, 0.4810126721858978]"
      ]
     },
     "execution_count": 95,
     "metadata": {},
     "output_type": "execute_result"
    }
   ],
   "source": [
    "nn_model.evaluate(X_test, y_test)"
   ]
  },
  {
   "cell_type": "code",
   "execution_count": 97,
   "id": "e96c9f24",
   "metadata": {},
   "outputs": [
    {
     "name": "stdout",
     "output_type": "stream",
     "text": [
      "3/3 [==============================] - 0s 1ms/step\n"
     ]
    }
   ],
   "source": [
    "y_pred_nn = nn_model.predict(X_test)"
   ]
  },
  {
   "cell_type": "code",
   "execution_count": 104,
   "id": "69d770d0",
   "metadata": {},
   "outputs": [],
   "source": [
    "y_pred_nn = y_pred_nn.tolist()"
   ]
  },
  {
   "cell_type": "code",
   "execution_count": 107,
   "id": "c4a7ff06",
   "metadata": {},
   "outputs": [],
   "source": [
    "def flatten(l):\n",
    "    return [item for sublist in l for item in sublist]"
   ]
  },
  {
   "cell_type": "code",
   "execution_count": 108,
   "id": "6a184412",
   "metadata": {},
   "outputs": [],
   "source": [
    "y_pred_nn = flatten(y_pred_nn)"
   ]
  },
  {
   "cell_type": "code",
   "execution_count": 109,
   "id": "8ae325c0",
   "metadata": {},
   "outputs": [
    {
     "data": {
      "text/plain": [
       "[0.5485239028930664,\n",
       " 0.5479598045349121,\n",
       " 0.5796365141868591,\n",
       " 0.6081628799438477,\n",
       " 0.5191239714622498,\n",
       " 0.5105844140052795,\n",
       " 0.4926692545413971,\n",
       " 0.39516153931617737,\n",
       " 0.4138481616973877,\n",
       " 0.3963989019393921,\n",
       " 0.31709587574005127,\n",
       " 0.36976903676986694,\n",
       " 0.43694570660591125,\n",
       " 0.3895595371723175,\n",
       " 0.32722780108451843,\n",
       " 0.4213736355304718,\n",
       " 0.3984881341457367,\n",
       " 0.40102458000183105,\n",
       " 0.5093178749084473,\n",
       " 0.47433188557624817,\n",
       " 0.44368910789489746,\n",
       " 0.4140837490558624,\n",
       " 0.34559816122055054,\n",
       " 0.36894381046295166,\n",
       " 0.37749582529067993,\n",
       " 0.40114936232566833,\n",
       " 0.38735195994377136,\n",
       " 0.40097329020500183,\n",
       " 0.37668654322624207,\n",
       " 0.38833650946617126,\n",
       " 0.5106377601623535,\n",
       " 0.5105565786361694,\n",
       " 0.4126345217227936,\n",
       " 0.4508063793182373,\n",
       " 0.45790258049964905,\n",
       " 0.45925772190093994,\n",
       " 0.5791492462158203,\n",
       " 0.4153510630130768,\n",
       " 0.41511544585227966,\n",
       " 0.47300851345062256,\n",
       " 0.595805823802948,\n",
       " 0.47395893931388855,\n",
       " 0.598105251789093,\n",
       " 0.3654952645301819,\n",
       " 0.37993502616882324,\n",
       " 0.4657262861728668,\n",
       " 0.3914172351360321,\n",
       " 0.41808152198791504,\n",
       " 0.4415373206138611,\n",
       " 0.32597216963768005,\n",
       " 0.3466610610485077,\n",
       " 0.3700371980667114,\n",
       " 0.36437299847602844,\n",
       " 0.37782806158065796,\n",
       " 0.47599342465400696,\n",
       " 0.4904949963092804,\n",
       " 0.406900018453598,\n",
       " 0.4123055338859558,\n",
       " 0.4248873293399811,\n",
       " 0.45649269223213196,\n",
       " 0.5172958374023438,\n",
       " 0.5495361089706421,\n",
       " 0.43500789999961853,\n",
       " 0.5448335409164429,\n",
       " 0.5054606795310974,\n",
       " 0.4672034680843353,\n",
       " 0.512092649936676,\n",
       " 0.5400234460830688,\n",
       " 0.41001516580581665,\n",
       " 0.4715828597545624,\n",
       " 0.5433537364006042,\n",
       " 0.39150482416152954,\n",
       " 0.3764994740486145,\n",
       " 0.46162906289100647,\n",
       " 0.5089832544326782,\n",
       " 0.4385000169277191,\n",
       " 0.43585464358329773,\n",
       " 0.47572264075279236,\n",
       " 0.40781131386756897]"
      ]
     },
     "execution_count": 109,
     "metadata": {},
     "output_type": "execute_result"
    }
   ],
   "source": [
    "y_pred_nn"
   ]
  },
  {
   "cell_type": "code",
   "execution_count": 110,
   "id": "9e61d69a",
   "metadata": {},
   "outputs": [],
   "source": [
    "y_pred_nn = [round(num) for num in y_pred_nn]"
   ]
  },
  {
   "cell_type": "code",
   "execution_count": 111,
   "id": "190df255",
   "metadata": {},
   "outputs": [
    {
     "name": "stdout",
     "output_type": "stream",
     "text": [
      "              precision    recall  f1-score   support\n",
      "\n",
      "           0       0.42      0.78      0.55        32\n",
      "           1       0.65      0.28      0.39        47\n",
      "\n",
      "    accuracy                           0.48        79\n",
      "   macro avg       0.54      0.53      0.47        79\n",
      "weighted avg       0.56      0.48      0.45        79\n",
      "\n"
     ]
    }
   ],
   "source": [
    "print(classification_report(y_test, y_pred_nn))"
   ]
  },
  {
   "cell_type": "markdown",
   "id": "294951bb",
   "metadata": {},
   "source": [
    "## Neural net accuracy = 0.48"
   ]
  },
  {
   "cell_type": "markdown",
   "id": "60687163",
   "metadata": {},
   "source": [
    "# Neural Net 2"
   ]
  },
  {
   "cell_type": "code",
   "execution_count": 120,
   "id": "04d3283c",
   "metadata": {},
   "outputs": [],
   "source": [
    "nn2_model = tf.keras.Sequential()\n",
    "nn2_model.add(tf.keras.layers.Dense(16, activation='relu'))\n",
    "nn2_model.add(tf.keras.layers.Dropout(0.4))\n",
    "nn2_model.add(tf.keras.layers.Dense(16, activation='relu'))\n",
    "nn2_model.add(tf.keras.layers.Dropout(0.4))\n",
    "nn2_model.add(tf.keras.layers.Dense(1, activation='sigmoid'))"
   ]
  },
  {
   "cell_type": "code",
   "execution_count": 121,
   "id": "363e6512",
   "metadata": {},
   "outputs": [],
   "source": [
    "nn2_model.compile(optimizer=tf.keras.optimizers.Adam(learning_rate=0.001),\n",
    "             loss=tf.keras.losses.BinaryCrossentropy(),\n",
    "             metrics=['accuracy'])"
   ]
  },
  {
   "cell_type": "code",
   "execution_count": 122,
   "id": "f81d3fc2",
   "metadata": {},
   "outputs": [
    {
     "name": "stdout",
     "output_type": "stream",
     "text": [
      "12/12 [==============================] - 0s 2ms/step - loss: 2.3808 - accuracy: 0.4727\n"
     ]
    },
    {
     "data": {
      "text/plain": [
       "[2.380753755569458, 0.4726775884628296]"
      ]
     },
     "execution_count": 122,
     "metadata": {},
     "output_type": "execute_result"
    }
   ],
   "source": [
    "nn2_model.evaluate(X_train, y_train[\"signal\"])"
   ]
  },
  {
   "cell_type": "code",
   "execution_count": 123,
   "id": "fabb6b8b",
   "metadata": {},
   "outputs": [
    {
     "name": "stdout",
     "output_type": "stream",
     "text": [
      "12/12 [==============================] - 0s 1ms/step - loss: 2.3808 - accuracy: 0.4727\n"
     ]
    },
    {
     "data": {
      "text/plain": [
       "[2.380753755569458, 0.4726775884628296]"
      ]
     },
     "execution_count": 123,
     "metadata": {},
     "output_type": "execute_result"
    }
   ],
   "source": [
    "nn2_model.evaluate(X_train, y_train)"
   ]
  },
  {
   "cell_type": "code",
   "execution_count": 124,
   "id": "b28285b8",
   "metadata": {},
   "outputs": [
    {
     "name": "stdout",
     "output_type": "stream",
     "text": [
      "Epoch 1/10\n",
      "12/12 [==============================] - 1s 7ms/step - loss: 3.8557 - accuracy: 0.5027 - val_loss: 2.1963 - val_accuracy: 0.4359\n",
      "Epoch 2/10\n",
      "12/12 [==============================] - 0s 4ms/step - loss: 2.9374 - accuracy: 0.5082 - val_loss: 1.4740 - val_accuracy: 0.4615\n",
      "Epoch 3/10\n",
      "12/12 [==============================] - 0s 3ms/step - loss: 2.3447 - accuracy: 0.5164 - val_loss: 1.0428 - val_accuracy: 0.4744\n",
      "Epoch 4/10\n",
      "12/12 [==============================] - 0s 3ms/step - loss: 1.9233 - accuracy: 0.5628 - val_loss: 0.8199 - val_accuracy: 0.4615\n",
      "Epoch 5/10\n",
      "12/12 [==============================] - 0s 4ms/step - loss: 1.7680 - accuracy: 0.4727 - val_loss: 0.7388 - val_accuracy: 0.5000\n",
      "Epoch 6/10\n",
      "12/12 [==============================] - 0s 3ms/step - loss: 1.6771 - accuracy: 0.5000 - val_loss: 0.7067 - val_accuracy: 0.5128\n",
      "Epoch 7/10\n",
      "12/12 [==============================] - 0s 4ms/step - loss: 1.7103 - accuracy: 0.4590 - val_loss: 0.6894 - val_accuracy: 0.5513\n",
      "Epoch 8/10\n",
      "12/12 [==============================] - 0s 3ms/step - loss: 1.3637 - accuracy: 0.5246 - val_loss: 0.6905 - val_accuracy: 0.5769\n",
      "Epoch 9/10\n",
      "12/12 [==============================] - 0s 4ms/step - loss: 1.2961 - accuracy: 0.5191 - val_loss: 0.6943 - val_accuracy: 0.5641\n",
      "Epoch 10/10\n",
      "12/12 [==============================] - 0s 4ms/step - loss: 1.1220 - accuracy: 0.5519 - val_loss: 0.6966 - val_accuracy: 0.5641\n"
     ]
    },
    {
     "data": {
      "text/plain": [
       "<keras.callbacks.History at 0x20d12ba8310>"
      ]
     },
     "execution_count": 124,
     "metadata": {},
     "output_type": "execute_result"
    }
   ],
   "source": [
    "nn2_model.fit(X_train, y_train, epochs=10, validation_data=(X_valid, y_valid))"
   ]
  },
  {
   "cell_type": "code",
   "execution_count": 125,
   "id": "3d4d6488",
   "metadata": {},
   "outputs": [
    {
     "name": "stdout",
     "output_type": "stream",
     "text": [
      "3/3 [==============================] - 0s 2ms/step\n"
     ]
    }
   ],
   "source": [
    "y_pred_nn2 = nn2_model.predict(X_test)"
   ]
  },
  {
   "cell_type": "code",
   "execution_count": 128,
   "id": "7aab17e2",
   "metadata": {},
   "outputs": [],
   "source": [
    "y_pred_nn2 = y_pred_nn2.tolist()\n",
    "def flatten(l):\n",
    "    return [item for sublist in l for item in sublist]\n",
    "y_pred_nn2 = flatten(y_pred_nn2)\n",
    "y_pred_nn2 = [round(num) for num in y_pred_nn2]"
   ]
  },
  {
   "cell_type": "code",
   "execution_count": 129,
   "id": "f0ad3c0a",
   "metadata": {},
   "outputs": [
    {
     "name": "stdout",
     "output_type": "stream",
     "text": [
      "              precision    recall  f1-score   support\n",
      "\n",
      "           0       0.00      0.00      0.00        32\n",
      "           1       0.59      1.00      0.75        47\n",
      "\n",
      "    accuracy                           0.59        79\n",
      "   macro avg       0.30      0.50      0.37        79\n",
      "weighted avg       0.35      0.59      0.44        79\n",
      "\n"
     ]
    },
    {
     "name": "stderr",
     "output_type": "stream",
     "text": [
      "C:\\Users\\megan\\anaconda3\\lib\\site-packages\\sklearn\\metrics\\_classification.py:1318: UndefinedMetricWarning: Precision and F-score are ill-defined and being set to 0.0 in labels with no predicted samples. Use `zero_division` parameter to control this behavior.\n",
      "  _warn_prf(average, modifier, msg_start, len(result))\n",
      "C:\\Users\\megan\\anaconda3\\lib\\site-packages\\sklearn\\metrics\\_classification.py:1318: UndefinedMetricWarning: Precision and F-score are ill-defined and being set to 0.0 in labels with no predicted samples. Use `zero_division` parameter to control this behavior.\n",
      "  _warn_prf(average, modifier, msg_start, len(result))\n",
      "C:\\Users\\megan\\anaconda3\\lib\\site-packages\\sklearn\\metrics\\_classification.py:1318: UndefinedMetricWarning: Precision and F-score are ill-defined and being set to 0.0 in labels with no predicted samples. Use `zero_division` parameter to control this behavior.\n",
      "  _warn_prf(average, modifier, msg_start, len(result))\n"
     ]
    }
   ],
   "source": [
    "print(classification_report(y_test, y_pred_nn2))"
   ]
  },
  {
   "cell_type": "markdown",
   "id": "2d9a16d0",
   "metadata": {},
   "source": [
    "## Neural net 2 accuracy = 0.59"
   ]
  },
  {
   "cell_type": "markdown",
   "id": "131484bc",
   "metadata": {},
   "source": [
    "#### creating a dataframe from the most acurate, neural net 2, random forest 1 and 2, knn, support, artificial nn"
   ]
  },
  {
   "cell_type": "code",
   "execution_count": 134,
   "id": "01d2cd3c",
   "metadata": {},
   "outputs": [],
   "source": [
    "correlation = pd.DataFrame(list(zip(y_pred_rf, y_pred_rf2)), columns=[\"rf1\", \"rf2\"])"
   ]
  },
  {
   "cell_type": "code",
   "execution_count": 137,
   "id": "8a04ea1e",
   "metadata": {},
   "outputs": [
    {
     "data": {
      "text/html": [
       "<div>\n",
       "<style scoped>\n",
       "    .dataframe tbody tr th:only-of-type {\n",
       "        vertical-align: middle;\n",
       "    }\n",
       "\n",
       "    .dataframe tbody tr th {\n",
       "        vertical-align: top;\n",
       "    }\n",
       "\n",
       "    .dataframe thead th {\n",
       "        text-align: right;\n",
       "    }\n",
       "</style>\n",
       "<table border=\"1\" class=\"dataframe\">\n",
       "  <thead>\n",
       "    <tr style=\"text-align: right;\">\n",
       "      <th></th>\n",
       "      <th>rf1</th>\n",
       "      <th>rf2</th>\n",
       "    </tr>\n",
       "  </thead>\n",
       "  <tbody>\n",
       "    <tr>\n",
       "      <th>rf1</th>\n",
       "      <td>1.000000</td>\n",
       "      <td>0.399595</td>\n",
       "    </tr>\n",
       "    <tr>\n",
       "      <th>rf2</th>\n",
       "      <td>0.399595</td>\n",
       "      <td>1.000000</td>\n",
       "    </tr>\n",
       "  </tbody>\n",
       "</table>\n",
       "</div>"
      ],
      "text/plain": [
       "          rf1       rf2\n",
       "rf1  1.000000  0.399595\n",
       "rf2  0.399595  1.000000"
      ]
     },
     "execution_count": 137,
     "metadata": {},
     "output_type": "execute_result"
    }
   ],
   "source": [
    "correlation.corr()"
   ]
  },
  {
   "cell_type": "code",
   "execution_count": 139,
   "id": "ae0c8abf",
   "metadata": {},
   "outputs": [],
   "source": [
    "df = pd.DataFrame(list(zip(y_pred_nn2, y_pred_rf, y_pred_rf2, y_pred_knn, y_pred_svm, y_pred_ann)), columns=[\"nn2\", \"rf1\", \"rf2\", \"knn\", \"svm\", \"ann\"])"
   ]
  },
  {
   "cell_type": "code",
   "execution_count": 141,
   "id": "3f32be8d",
   "metadata": {},
   "outputs": [],
   "source": [
    "df.index = y_test.index"
   ]
  },
  {
   "cell_type": "code",
   "execution_count": 142,
   "id": "889fbca2",
   "metadata": {},
   "outputs": [
    {
     "data": {
      "text/html": [
       "<div>\n",
       "<style scoped>\n",
       "    .dataframe tbody tr th:only-of-type {\n",
       "        vertical-align: middle;\n",
       "    }\n",
       "\n",
       "    .dataframe tbody tr th {\n",
       "        vertical-align: top;\n",
       "    }\n",
       "\n",
       "    .dataframe thead th {\n",
       "        text-align: right;\n",
       "    }\n",
       "</style>\n",
       "<table border=\"1\" class=\"dataframe\">\n",
       "  <thead>\n",
       "    <tr style=\"text-align: right;\">\n",
       "      <th></th>\n",
       "      <th>nn2</th>\n",
       "      <th>rf1</th>\n",
       "      <th>rf2</th>\n",
       "      <th>knn</th>\n",
       "      <th>svm</th>\n",
       "      <th>ann</th>\n",
       "    </tr>\n",
       "    <tr>\n",
       "      <th>Date</th>\n",
       "      <th></th>\n",
       "      <th></th>\n",
       "      <th></th>\n",
       "      <th></th>\n",
       "      <th></th>\n",
       "      <th></th>\n",
       "    </tr>\n",
       "  </thead>\n",
       "  <tbody>\n",
       "    <tr>\n",
       "      <th>2022-10-21</th>\n",
       "      <td>1</td>\n",
       "      <td>1</td>\n",
       "      <td>0</td>\n",
       "      <td>1</td>\n",
       "      <td>1</td>\n",
       "      <td>1</td>\n",
       "    </tr>\n",
       "    <tr>\n",
       "      <th>2022-10-24</th>\n",
       "      <td>1</td>\n",
       "      <td>0</td>\n",
       "      <td>0</td>\n",
       "      <td>1</td>\n",
       "      <td>1</td>\n",
       "      <td>1</td>\n",
       "    </tr>\n",
       "    <tr>\n",
       "      <th>2022-10-25</th>\n",
       "      <td>1</td>\n",
       "      <td>0</td>\n",
       "      <td>1</td>\n",
       "      <td>1</td>\n",
       "      <td>1</td>\n",
       "      <td>1</td>\n",
       "    </tr>\n",
       "    <tr>\n",
       "      <th>2022-10-26</th>\n",
       "      <td>1</td>\n",
       "      <td>0</td>\n",
       "      <td>0</td>\n",
       "      <td>0</td>\n",
       "      <td>0</td>\n",
       "      <td>0</td>\n",
       "    </tr>\n",
       "    <tr>\n",
       "      <th>2022-10-27</th>\n",
       "      <td>1</td>\n",
       "      <td>0</td>\n",
       "      <td>0</td>\n",
       "      <td>1</td>\n",
       "      <td>0</td>\n",
       "      <td>0</td>\n",
       "    </tr>\n",
       "  </tbody>\n",
       "</table>\n",
       "</div>"
      ],
      "text/plain": [
       "            nn2  rf1  rf2  knn  svm  ann\n",
       "Date                                    \n",
       "2022-10-21    1    1    0    1    1    1\n",
       "2022-10-24    1    0    0    1    1    1\n",
       "2022-10-25    1    0    1    1    1    1\n",
       "2022-10-26    1    0    0    0    0    0\n",
       "2022-10-27    1    0    0    1    0    0"
      ]
     },
     "execution_count": 142,
     "metadata": {},
     "output_type": "execute_result"
    }
   ],
   "source": [
    "df.head()"
   ]
  },
  {
   "cell_type": "code",
   "execution_count": 147,
   "id": "95cfd452",
   "metadata": {},
   "outputs": [],
   "source": [
    "df[\"mean\"] = df.mean(axis=1)"
   ]
  },
  {
   "cell_type": "code",
   "execution_count": 151,
   "id": "56841998",
   "metadata": {},
   "outputs": [],
   "source": [
    "df[\"taget\"] = round(df[\"mean\"]).astype(int)"
   ]
  },
  {
   "cell_type": "code",
   "execution_count": 152,
   "id": "3ad5ebab",
   "metadata": {},
   "outputs": [
    {
     "data": {
      "text/html": [
       "<div>\n",
       "<style scoped>\n",
       "    .dataframe tbody tr th:only-of-type {\n",
       "        vertical-align: middle;\n",
       "    }\n",
       "\n",
       "    .dataframe tbody tr th {\n",
       "        vertical-align: top;\n",
       "    }\n",
       "\n",
       "    .dataframe thead th {\n",
       "        text-align: right;\n",
       "    }\n",
       "</style>\n",
       "<table border=\"1\" class=\"dataframe\">\n",
       "  <thead>\n",
       "    <tr style=\"text-align: right;\">\n",
       "      <th></th>\n",
       "      <th>nn2</th>\n",
       "      <th>rf1</th>\n",
       "      <th>rf2</th>\n",
       "      <th>knn</th>\n",
       "      <th>svm</th>\n",
       "      <th>ann</th>\n",
       "      <th>mean</th>\n",
       "      <th>taget</th>\n",
       "    </tr>\n",
       "    <tr>\n",
       "      <th>Date</th>\n",
       "      <th></th>\n",
       "      <th></th>\n",
       "      <th></th>\n",
       "      <th></th>\n",
       "      <th></th>\n",
       "      <th></th>\n",
       "      <th></th>\n",
       "      <th></th>\n",
       "    </tr>\n",
       "  </thead>\n",
       "  <tbody>\n",
       "    <tr>\n",
       "      <th>2022-10-21</th>\n",
       "      <td>1</td>\n",
       "      <td>1</td>\n",
       "      <td>0</td>\n",
       "      <td>1</td>\n",
       "      <td>1</td>\n",
       "      <td>1</td>\n",
       "      <td>0.833333</td>\n",
       "      <td>1</td>\n",
       "    </tr>\n",
       "    <tr>\n",
       "      <th>2022-10-24</th>\n",
       "      <td>1</td>\n",
       "      <td>0</td>\n",
       "      <td>0</td>\n",
       "      <td>1</td>\n",
       "      <td>1</td>\n",
       "      <td>1</td>\n",
       "      <td>0.666667</td>\n",
       "      <td>1</td>\n",
       "    </tr>\n",
       "    <tr>\n",
       "      <th>2022-10-25</th>\n",
       "      <td>1</td>\n",
       "      <td>0</td>\n",
       "      <td>1</td>\n",
       "      <td>1</td>\n",
       "      <td>1</td>\n",
       "      <td>1</td>\n",
       "      <td>0.833333</td>\n",
       "      <td>1</td>\n",
       "    </tr>\n",
       "    <tr>\n",
       "      <th>2022-10-26</th>\n",
       "      <td>1</td>\n",
       "      <td>0</td>\n",
       "      <td>0</td>\n",
       "      <td>0</td>\n",
       "      <td>0</td>\n",
       "      <td>0</td>\n",
       "      <td>0.166667</td>\n",
       "      <td>0</td>\n",
       "    </tr>\n",
       "    <tr>\n",
       "      <th>2022-10-27</th>\n",
       "      <td>1</td>\n",
       "      <td>0</td>\n",
       "      <td>0</td>\n",
       "      <td>1</td>\n",
       "      <td>0</td>\n",
       "      <td>0</td>\n",
       "      <td>0.333333</td>\n",
       "      <td>0</td>\n",
       "    </tr>\n",
       "  </tbody>\n",
       "</table>\n",
       "</div>"
      ],
      "text/plain": [
       "            nn2  rf1  rf2  knn  svm  ann      mean  taget\n",
       "Date                                                     \n",
       "2022-10-21    1    1    0    1    1    1  0.833333      1\n",
       "2022-10-24    1    0    0    1    1    1  0.666667      1\n",
       "2022-10-25    1    0    1    1    1    1  0.833333      1\n",
       "2022-10-26    1    0    0    0    0    0  0.166667      0\n",
       "2022-10-27    1    0    0    1    0    0  0.333333      0"
      ]
     },
     "execution_count": 152,
     "metadata": {},
     "output_type": "execute_result"
    }
   ],
   "source": [
    "df.head()"
   ]
  },
  {
   "cell_type": "code",
   "execution_count": 153,
   "id": "7ec6f460",
   "metadata": {},
   "outputs": [
    {
     "name": "stdout",
     "output_type": "stream",
     "text": [
      "              precision    recall  f1-score   support\n",
      "\n",
      "           0       0.44      0.59      0.51        32\n",
      "           1       0.64      0.49      0.55        47\n",
      "\n",
      "    accuracy                           0.53        79\n",
      "   macro avg       0.54      0.54      0.53        79\n",
      "weighted avg       0.56      0.53      0.53        79\n",
      "\n"
     ]
    }
   ],
   "source": [
    "print(classification_report(y_test, df[\"taget\"]))"
   ]
  },
  {
   "cell_type": "code",
   "execution_count": null,
   "id": "23d9c7ae",
   "metadata": {},
   "outputs": [],
   "source": []
  }
 ],
 "metadata": {
  "kernelspec": {
   "display_name": "Python 3 (ipykernel)",
   "language": "python",
   "name": "python3"
  },
  "language_info": {
   "codemirror_mode": {
    "name": "ipython",
    "version": 3
   },
   "file_extension": ".py",
   "mimetype": "text/x-python",
   "name": "python",
   "nbconvert_exporter": "python",
   "pygments_lexer": "ipython3",
   "version": "3.9.12"
  }
 },
 "nbformat": 4,
 "nbformat_minor": 5
}
